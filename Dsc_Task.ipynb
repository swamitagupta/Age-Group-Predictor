{
  "nbformat": 4,
  "nbformat_minor": 0,
  "metadata": {
    "colab": {
      "name": "Dsc Task.ipynb",
      "provenance": [],
      "collapsed_sections": []
    },
    "kernelspec": {
      "name": "python3",
      "display_name": "Python 3"
    }
  },
  "cells": [
    {
      "cell_type": "markdown",
      "metadata": {
        "id": "5ueK2io-PHBS"
      },
      "source": [
        "#Dsc Machine Learning Task"
      ]
    },
    {
      "cell_type": "markdown",
      "metadata": {
        "id": "860Mu_v-PSJD"
      },
      "source": [
        "## Importing Libraries"
      ]
    },
    {
      "cell_type": "code",
      "metadata": {
        "id": "Ugz_mrP6Ciax"
      },
      "source": [
        "#import libraries\n",
        "import numpy as np\n",
        "import pandas as pd\n",
        "import matplotlib.pyplot as plt\n",
        "%matplotlib inline \n",
        "import tensorflow as tf\n",
        "import seaborn as sns"
      ],
      "execution_count": 1,
      "outputs": []
    },
    {
      "cell_type": "code",
      "metadata": {
        "id": "TJrZp57nbGE8"
      },
      "source": [
        "from tensorflow.keras.models import Sequential\n",
        "from tensorflow.keras.layers import Dense, Dropout\n",
        "from tensorflow.keras.callbacks import EarlyStopping, LambdaCallback"
      ],
      "execution_count": 2,
      "outputs": []
    },
    {
      "cell_type": "code",
      "metadata": {
        "id": "KH_UhSeESMQC"
      },
      "source": [
        "from keras.wrappers.scikit_learn import KerasClassifier\n",
        "from keras.utils import np_utils\n",
        "from sklearn.model_selection import cross_val_score\n",
        "from sklearn.model_selection import KFold\n",
        "from sklearn.preprocessing import LabelEncoder\n",
        "from sklearn.pipeline import Pipeline"
      ],
      "execution_count": 3,
      "outputs": []
    },
    {
      "cell_type": "code",
      "metadata": {
        "id": "LtbH1UT2XyLy"
      },
      "source": [
        "from sklearn import preprocessing"
      ],
      "execution_count": 4,
      "outputs": []
    },
    {
      "cell_type": "code",
      "metadata": {
        "id": "oX4jyHdshYyj"
      },
      "source": [
        "from sklearn.metrics import accuracy_score\n",
        "from sklearn.metrics import precision_score\n",
        "from sklearn.metrics import recall_score\n",
        "from sklearn.metrics import f1_score\n",
        "from sklearn.metrics import cohen_kappa_score\n",
        "from sklearn.metrics import roc_auc_score\n",
        "from sklearn.metrics import confusion_matrix\n",
        "from sklearn.metrics import roc_curve"
      ],
      "execution_count": 5,
      "outputs": []
    },
    {
      "cell_type": "markdown",
      "metadata": {
        "id": "PDE5pdUsPYrD"
      },
      "source": [
        "## Loading dataset"
      ]
    },
    {
      "cell_type": "code",
      "metadata": {
        "colab": {
          "base_uri": "https://localhost:8080/",
          "height": 241
        },
        "id": "1PopEWjGP7xN",
        "outputId": "9087561c-fdf8-47c5-93b2-0d686a96df45"
      },
      "source": [
        "#store data into a dataframe from csv\n",
        "dataframe = pd.read_csv('DSC_Task.csv')\n",
        "dataframe.head()"
      ],
      "execution_count": 6,
      "outputs": [
        {
          "output_type": "execute_result",
          "data": {
            "text/html": [
              "<div>\n",
              "<style scoped>\n",
              "    .dataframe tbody tr th:only-of-type {\n",
              "        vertical-align: middle;\n",
              "    }\n",
              "\n",
              "    .dataframe tbody tr th {\n",
              "        vertical-align: top;\n",
              "    }\n",
              "\n",
              "    .dataframe thead th {\n",
              "        text-align: right;\n",
              "    }\n",
              "</style>\n",
              "<table border=\"1\" class=\"dataframe\">\n",
              "  <thead>\n",
              "    <tr style=\"text-align: right;\">\n",
              "      <th></th>\n",
              "      <th>Unnamed: 0</th>\n",
              "      <th>userId</th>\n",
              "      <th>tier</th>\n",
              "      <th>gender</th>\n",
              "      <th>following_rate</th>\n",
              "      <th>followers_avg_age</th>\n",
              "      <th>following_avg_age</th>\n",
              "      <th>max_repetitive_punc</th>\n",
              "      <th>num_of_hashtags_per_action</th>\n",
              "      <th>emoji_count_per_action</th>\n",
              "      <th>punctuations_per_action</th>\n",
              "      <th>number_of_words_per_action</th>\n",
              "      <th>avgCompletion</th>\n",
              "      <th>avgTimeSpent</th>\n",
              "      <th>avgDuration</th>\n",
              "      <th>avgComments</th>\n",
              "      <th>creations</th>\n",
              "      <th>content_views</th>\n",
              "      <th>num_of_comments</th>\n",
              "      <th>weekends_trails_watched_per_day</th>\n",
              "      <th>weekdays_trails_watched_per_day</th>\n",
              "      <th>slot1_trails_watched_per_day</th>\n",
              "      <th>slot2_trails_watched_per_day</th>\n",
              "      <th>slot3_trails_watched_per_day</th>\n",
              "      <th>slot4_trails_watched_per_day</th>\n",
              "      <th>avgt2</th>\n",
              "      <th>age_group</th>\n",
              "    </tr>\n",
              "  </thead>\n",
              "  <tbody>\n",
              "    <tr>\n",
              "      <th>0</th>\n",
              "      <td>265153</td>\n",
              "      <td>48958844</td>\n",
              "      <td>2</td>\n",
              "      <td>1</td>\n",
              "      <td>0.0</td>\n",
              "      <td>0.0</td>\n",
              "      <td>0.0</td>\n",
              "      <td>0</td>\n",
              "      <td>0.0</td>\n",
              "      <td>0.0</td>\n",
              "      <td>0.000000</td>\n",
              "      <td>0.000000</td>\n",
              "      <td>0.463330</td>\n",
              "      <td>34.160000</td>\n",
              "      <td>53.996091</td>\n",
              "      <td>0</td>\n",
              "      <td>0.000000</td>\n",
              "      <td>0.200000</td>\n",
              "      <td>0.0</td>\n",
              "      <td>0.041667</td>\n",
              "      <td>0.025000</td>\n",
              "      <td>0.0</td>\n",
              "      <td>0.000000</td>\n",
              "      <td>0.175000</td>\n",
              "      <td>0.033333</td>\n",
              "      <td>0.0</td>\n",
              "      <td>1</td>\n",
              "    </tr>\n",
              "    <tr>\n",
              "      <th>1</th>\n",
              "      <td>405231</td>\n",
              "      <td>51100441</td>\n",
              "      <td>2</td>\n",
              "      <td>2</td>\n",
              "      <td>0.0</td>\n",
              "      <td>0.0</td>\n",
              "      <td>0.0</td>\n",
              "      <td>0</td>\n",
              "      <td>0.0</td>\n",
              "      <td>0.0</td>\n",
              "      <td>0.076923</td>\n",
              "      <td>0.153846</td>\n",
              "      <td>0.429468</td>\n",
              "      <td>15.285714</td>\n",
              "      <td>96.231625</td>\n",
              "      <td>0</td>\n",
              "      <td>0.008475</td>\n",
              "      <td>0.093220</td>\n",
              "      <td>0.0</td>\n",
              "      <td>0.012712</td>\n",
              "      <td>0.018644</td>\n",
              "      <td>0.0</td>\n",
              "      <td>0.084746</td>\n",
              "      <td>0.000000</td>\n",
              "      <td>0.033898</td>\n",
              "      <td>82.5</td>\n",
              "      <td>2</td>\n",
              "    </tr>\n",
              "    <tr>\n",
              "      <th>2</th>\n",
              "      <td>57867</td>\n",
              "      <td>6887426</td>\n",
              "      <td>2</td>\n",
              "      <td>1</td>\n",
              "      <td>0.0</td>\n",
              "      <td>0.0</td>\n",
              "      <td>0.0</td>\n",
              "      <td>0</td>\n",
              "      <td>0.0</td>\n",
              "      <td>0.0</td>\n",
              "      <td>0.000000</td>\n",
              "      <td>0.000000</td>\n",
              "      <td>0.341657</td>\n",
              "      <td>22.000000</td>\n",
              "      <td>83.051415</td>\n",
              "      <td>0</td>\n",
              "      <td>0.000000</td>\n",
              "      <td>0.002786</td>\n",
              "      <td>0.0</td>\n",
              "      <td>0.000000</td>\n",
              "      <td>0.000557</td>\n",
              "      <td>0.0</td>\n",
              "      <td>0.002786</td>\n",
              "      <td>0.000000</td>\n",
              "      <td>0.000000</td>\n",
              "      <td>0.0</td>\n",
              "      <td>1</td>\n",
              "    </tr>\n",
              "    <tr>\n",
              "      <th>3</th>\n",
              "      <td>272618</td>\n",
              "      <td>50742404</td>\n",
              "      <td>2</td>\n",
              "      <td>1</td>\n",
              "      <td>0.0</td>\n",
              "      <td>0.0</td>\n",
              "      <td>0.0</td>\n",
              "      <td>0</td>\n",
              "      <td>0.0</td>\n",
              "      <td>0.0</td>\n",
              "      <td>0.000000</td>\n",
              "      <td>0.000000</td>\n",
              "      <td>0.005735</td>\n",
              "      <td>3.000000</td>\n",
              "      <td>523.080000</td>\n",
              "      <td>0</td>\n",
              "      <td>0.000000</td>\n",
              "      <td>0.008403</td>\n",
              "      <td>0.0</td>\n",
              "      <td>0.000000</td>\n",
              "      <td>0.001681</td>\n",
              "      <td>0.0</td>\n",
              "      <td>0.000000</td>\n",
              "      <td>0.000000</td>\n",
              "      <td>0.008403</td>\n",
              "      <td>0.0</td>\n",
              "      <td>1</td>\n",
              "    </tr>\n",
              "    <tr>\n",
              "      <th>4</th>\n",
              "      <td>251123</td>\n",
              "      <td>45589200</td>\n",
              "      <td>2</td>\n",
              "      <td>2</td>\n",
              "      <td>0.0</td>\n",
              "      <td>0.0</td>\n",
              "      <td>0.0</td>\n",
              "      <td>0</td>\n",
              "      <td>0.0</td>\n",
              "      <td>0.0</td>\n",
              "      <td>0.000000</td>\n",
              "      <td>0.000000</td>\n",
              "      <td>0.456549</td>\n",
              "      <td>12.333333</td>\n",
              "      <td>53.766640</td>\n",
              "      <td>0</td>\n",
              "      <td>0.000000</td>\n",
              "      <td>0.204918</td>\n",
              "      <td>0.0</td>\n",
              "      <td>0.000000</td>\n",
              "      <td>0.049180</td>\n",
              "      <td>0.0</td>\n",
              "      <td>0.008197</td>\n",
              "      <td>0.057377</td>\n",
              "      <td>0.180328</td>\n",
              "      <td>0.0</td>\n",
              "      <td>1</td>\n",
              "    </tr>\n",
              "  </tbody>\n",
              "</table>\n",
              "</div>"
            ],
            "text/plain": [
              "   Unnamed: 0    userId  tier  ...  slot4_trails_watched_per_day  avgt2  age_group\n",
              "0      265153  48958844     2  ...                      0.033333    0.0          1\n",
              "1      405231  51100441     2  ...                      0.033898   82.5          2\n",
              "2       57867   6887426     2  ...                      0.000000    0.0          1\n",
              "3      272618  50742404     2  ...                      0.008403    0.0          1\n",
              "4      251123  45589200     2  ...                      0.180328    0.0          1\n",
              "\n",
              "[5 rows x 27 columns]"
            ]
          },
          "metadata": {
            "tags": []
          },
          "execution_count": 6
        }
      ]
    },
    {
      "cell_type": "markdown",
      "metadata": {
        "id": "IaRxDh8nQXGr"
      },
      "source": [
        "## Exploratory Data Analysis"
      ]
    },
    {
      "cell_type": "code",
      "metadata": {
        "colab": {
          "base_uri": "https://localhost:8080/",
          "height": 0
        },
        "id": "oeET1BeiSuFL",
        "outputId": "4691fd6d-edcb-4123-8fa6-0f591fe1f3b1"
      },
      "source": [
        "#shape and size of the dataframe\n",
        "dataframe.shape"
      ],
      "execution_count": 7,
      "outputs": [
        {
          "output_type": "execute_result",
          "data": {
            "text/plain": [
              "(488877, 27)"
            ]
          },
          "metadata": {
            "tags": []
          },
          "execution_count": 7
        }
      ]
    },
    {
      "cell_type": "code",
      "metadata": {
        "colab": {
          "base_uri": "https://localhost:8080/",
          "height": 0
        },
        "id": "cIOb6_TsT-iW",
        "outputId": "8296e7c3-2736-4052-c440-bc261aa5880c"
      },
      "source": [
        "#data type of the features\n",
        "dataframe.dtypes"
      ],
      "execution_count": 8,
      "outputs": [
        {
          "output_type": "execute_result",
          "data": {
            "text/plain": [
              "Unnamed: 0                           int64\n",
              "userId                               int64\n",
              "tier                                 int64\n",
              "gender                               int64\n",
              "following_rate                     float64\n",
              "followers_avg_age                  float64\n",
              "following_avg_age                  float64\n",
              "max_repetitive_punc                  int64\n",
              "num_of_hashtags_per_action         float64\n",
              "emoji_count_per_action             float64\n",
              "punctuations_per_action            float64\n",
              "number_of_words_per_action         float64\n",
              "avgCompletion                      float64\n",
              "avgTimeSpent                       float64\n",
              "avgDuration                        float64\n",
              "avgComments                          int64\n",
              "creations                          float64\n",
              "content_views                      float64\n",
              "num_of_comments                    float64\n",
              "weekends_trails_watched_per_day    float64\n",
              "weekdays_trails_watched_per_day    float64\n",
              "slot1_trails_watched_per_day       float64\n",
              "slot2_trails_watched_per_day       float64\n",
              "slot3_trails_watched_per_day       float64\n",
              "slot4_trails_watched_per_day       float64\n",
              "avgt2                              float64\n",
              "age_group                            int64\n",
              "dtype: object"
            ]
          },
          "metadata": {
            "tags": []
          },
          "execution_count": 8
        }
      ]
    },
    {
      "cell_type": "code",
      "metadata": {
        "colab": {
          "base_uri": "https://localhost:8080/",
          "height": 317
        },
        "id": "bZiINqzXS5AU",
        "outputId": "e63d3592-081e-4feb-f168-a1ccd5467d61"
      },
      "source": [
        "#statistical inference\n",
        "dataframe.describe()"
      ],
      "execution_count": 9,
      "outputs": [
        {
          "output_type": "execute_result",
          "data": {
            "text/html": [
              "<div>\n",
              "<style scoped>\n",
              "    .dataframe tbody tr th:only-of-type {\n",
              "        vertical-align: middle;\n",
              "    }\n",
              "\n",
              "    .dataframe tbody tr th {\n",
              "        vertical-align: top;\n",
              "    }\n",
              "\n",
              "    .dataframe thead th {\n",
              "        text-align: right;\n",
              "    }\n",
              "</style>\n",
              "<table border=\"1\" class=\"dataframe\">\n",
              "  <thead>\n",
              "    <tr style=\"text-align: right;\">\n",
              "      <th></th>\n",
              "      <th>Unnamed: 0</th>\n",
              "      <th>userId</th>\n",
              "      <th>tier</th>\n",
              "      <th>gender</th>\n",
              "      <th>following_rate</th>\n",
              "      <th>followers_avg_age</th>\n",
              "      <th>following_avg_age</th>\n",
              "      <th>max_repetitive_punc</th>\n",
              "      <th>num_of_hashtags_per_action</th>\n",
              "      <th>emoji_count_per_action</th>\n",
              "      <th>punctuations_per_action</th>\n",
              "      <th>number_of_words_per_action</th>\n",
              "      <th>avgCompletion</th>\n",
              "      <th>avgTimeSpent</th>\n",
              "      <th>avgDuration</th>\n",
              "      <th>avgComments</th>\n",
              "      <th>creations</th>\n",
              "      <th>content_views</th>\n",
              "      <th>num_of_comments</th>\n",
              "      <th>weekends_trails_watched_per_day</th>\n",
              "      <th>weekdays_trails_watched_per_day</th>\n",
              "      <th>slot1_trails_watched_per_day</th>\n",
              "      <th>slot2_trails_watched_per_day</th>\n",
              "      <th>slot3_trails_watched_per_day</th>\n",
              "      <th>slot4_trails_watched_per_day</th>\n",
              "      <th>avgt2</th>\n",
              "      <th>age_group</th>\n",
              "    </tr>\n",
              "  </thead>\n",
              "  <tbody>\n",
              "    <tr>\n",
              "      <th>count</th>\n",
              "      <td>488877.000000</td>\n",
              "      <td>4.888770e+05</td>\n",
              "      <td>488877.000000</td>\n",
              "      <td>488877.000000</td>\n",
              "      <td>488877.000000</td>\n",
              "      <td>488877.000000</td>\n",
              "      <td>488877.000000</td>\n",
              "      <td>488877.000000</td>\n",
              "      <td>488877.000000</td>\n",
              "      <td>488877.000000</td>\n",
              "      <td>488877.000000</td>\n",
              "      <td>488877.000000</td>\n",
              "      <td>488877.000000</td>\n",
              "      <td>4.888770e+05</td>\n",
              "      <td>488877.000000</td>\n",
              "      <td>488877.000000</td>\n",
              "      <td>488877.000000</td>\n",
              "      <td>488877.000000</td>\n",
              "      <td>488877.000000</td>\n",
              "      <td>488877.000000</td>\n",
              "      <td>488877.000000</td>\n",
              "      <td>488877.000000</td>\n",
              "      <td>488877.000000</td>\n",
              "      <td>488877.000000</td>\n",
              "      <td>488877.000000</td>\n",
              "      <td>488877.000000</td>\n",
              "      <td>488877.000000</td>\n",
              "    </tr>\n",
              "    <tr>\n",
              "      <th>mean</th>\n",
              "      <td>271605.981815</td>\n",
              "      <td>4.236096e+07</td>\n",
              "      <td>1.975382</td>\n",
              "      <td>1.213037</td>\n",
              "      <td>0.082233</td>\n",
              "      <td>0.347520</td>\n",
              "      <td>0.403049</td>\n",
              "      <td>0.739748</td>\n",
              "      <td>0.000277</td>\n",
              "      <td>0.000981</td>\n",
              "      <td>0.012805</td>\n",
              "      <td>0.179148</td>\n",
              "      <td>0.341582</td>\n",
              "      <td>1.087395e+02</td>\n",
              "      <td>83.104654</td>\n",
              "      <td>0.320923</td>\n",
              "      <td>0.017065</td>\n",
              "      <td>0.391013</td>\n",
              "      <td>0.002009</td>\n",
              "      <td>0.074353</td>\n",
              "      <td>0.066927</td>\n",
              "      <td>0.032855</td>\n",
              "      <td>0.141705</td>\n",
              "      <td>0.150401</td>\n",
              "      <td>0.158382</td>\n",
              "      <td>164.765782</td>\n",
              "      <td>1.741643</td>\n",
              "    </tr>\n",
              "    <tr>\n",
              "      <th>std</th>\n",
              "      <td>156808.138002</td>\n",
              "      <td>1.821664e+07</td>\n",
              "      <td>0.430707</td>\n",
              "      <td>0.409454</td>\n",
              "      <td>2.467781</td>\n",
              "      <td>0.816334</td>\n",
              "      <td>0.925291</td>\n",
              "      <td>3.075954</td>\n",
              "      <td>0.012221</td>\n",
              "      <td>0.020381</td>\n",
              "      <td>0.159553</td>\n",
              "      <td>0.647588</td>\n",
              "      <td>0.195441</td>\n",
              "      <td>5.537516e+04</td>\n",
              "      <td>76.779586</td>\n",
              "      <td>7.649827</td>\n",
              "      <td>0.180402</td>\n",
              "      <td>0.905303</td>\n",
              "      <td>0.030561</td>\n",
              "      <td>0.211094</td>\n",
              "      <td>0.174791</td>\n",
              "      <td>0.193962</td>\n",
              "      <td>0.402612</td>\n",
              "      <td>0.451999</td>\n",
              "      <td>0.502065</td>\n",
              "      <td>981.988886</td>\n",
              "      <td>1.088559</td>\n",
              "    </tr>\n",
              "    <tr>\n",
              "      <th>min</th>\n",
              "      <td>0.000000</td>\n",
              "      <td>2.700000e+01</td>\n",
              "      <td>1.000000</td>\n",
              "      <td>1.000000</td>\n",
              "      <td>0.000000</td>\n",
              "      <td>0.000000</td>\n",
              "      <td>0.000000</td>\n",
              "      <td>0.000000</td>\n",
              "      <td>0.000000</td>\n",
              "      <td>0.000000</td>\n",
              "      <td>0.000000</td>\n",
              "      <td>0.000000</td>\n",
              "      <td>0.000653</td>\n",
              "      <td>1.000000e+00</td>\n",
              "      <td>0.233000</td>\n",
              "      <td>0.000000</td>\n",
              "      <td>0.000000</td>\n",
              "      <td>0.000887</td>\n",
              "      <td>0.000000</td>\n",
              "      <td>0.000000</td>\n",
              "      <td>0.000000</td>\n",
              "      <td>0.000000</td>\n",
              "      <td>0.000000</td>\n",
              "      <td>0.000000</td>\n",
              "      <td>0.000000</td>\n",
              "      <td>0.000000</td>\n",
              "      <td>1.000000</td>\n",
              "    </tr>\n",
              "    <tr>\n",
              "      <th>25%</th>\n",
              "      <td>135779.000000</td>\n",
              "      <td>3.537599e+07</td>\n",
              "      <td>2.000000</td>\n",
              "      <td>1.000000</td>\n",
              "      <td>0.000000</td>\n",
              "      <td>0.000000</td>\n",
              "      <td>0.000000</td>\n",
              "      <td>0.000000</td>\n",
              "      <td>0.000000</td>\n",
              "      <td>0.000000</td>\n",
              "      <td>0.000000</td>\n",
              "      <td>0.000000</td>\n",
              "      <td>0.199675</td>\n",
              "      <td>5.655172e+00</td>\n",
              "      <td>30.724000</td>\n",
              "      <td>0.000000</td>\n",
              "      <td>0.000000</td>\n",
              "      <td>0.040650</td>\n",
              "      <td>0.000000</td>\n",
              "      <td>0.000000</td>\n",
              "      <td>0.002265</td>\n",
              "      <td>0.000000</td>\n",
              "      <td>0.000000</td>\n",
              "      <td>0.000000</td>\n",
              "      <td>0.000000</td>\n",
              "      <td>0.000000</td>\n",
              "      <td>1.000000</td>\n",
              "    </tr>\n",
              "    <tr>\n",
              "      <th>50%</th>\n",
              "      <td>271560.000000</td>\n",
              "      <td>4.336270e+07</td>\n",
              "      <td>2.000000</td>\n",
              "      <td>1.000000</td>\n",
              "      <td>0.000000</td>\n",
              "      <td>0.000000</td>\n",
              "      <td>0.000000</td>\n",
              "      <td>0.000000</td>\n",
              "      <td>0.000000</td>\n",
              "      <td>0.000000</td>\n",
              "      <td>0.000000</td>\n",
              "      <td>0.000000</td>\n",
              "      <td>0.329743</td>\n",
              "      <td>8.500000e+00</td>\n",
              "      <td>62.501164</td>\n",
              "      <td>0.000000</td>\n",
              "      <td>0.000000</td>\n",
              "      <td>0.124031</td>\n",
              "      <td>0.000000</td>\n",
              "      <td>0.003968</td>\n",
              "      <td>0.015873</td>\n",
              "      <td>0.000000</td>\n",
              "      <td>0.011834</td>\n",
              "      <td>0.014563</td>\n",
              "      <td>0.015873</td>\n",
              "      <td>0.000000</td>\n",
              "      <td>1.000000</td>\n",
              "    </tr>\n",
              "    <tr>\n",
              "      <th>75%</th>\n",
              "      <td>407431.000000</td>\n",
              "      <td>5.370523e+07</td>\n",
              "      <td>2.000000</td>\n",
              "      <td>1.000000</td>\n",
              "      <td>0.008621</td>\n",
              "      <td>0.000000</td>\n",
              "      <td>0.000000</td>\n",
              "      <td>0.000000</td>\n",
              "      <td>0.000000</td>\n",
              "      <td>0.000000</td>\n",
              "      <td>0.000000</td>\n",
              "      <td>0.150183</td>\n",
              "      <td>0.460492</td>\n",
              "      <td>1.308654e+01</td>\n",
              "      <td>112.246500</td>\n",
              "      <td>0.000000</td>\n",
              "      <td>0.009091</td>\n",
              "      <td>0.364486</td>\n",
              "      <td>0.000000</td>\n",
              "      <td>0.060000</td>\n",
              "      <td>0.059016</td>\n",
              "      <td>0.000000</td>\n",
              "      <td>0.117188</td>\n",
              "      <td>0.118644</td>\n",
              "      <td>0.122396</td>\n",
              "      <td>178.666667</td>\n",
              "      <td>2.000000</td>\n",
              "    </tr>\n",
              "    <tr>\n",
              "      <th>max</th>\n",
              "      <td>543196.000000</td>\n",
              "      <td>7.904203e+07</td>\n",
              "      <td>3.000000</td>\n",
              "      <td>2.000000</td>\n",
              "      <td>895.304000</td>\n",
              "      <td>4.000000</td>\n",
              "      <td>4.000000</td>\n",
              "      <td>624.000000</td>\n",
              "      <td>2.333333</td>\n",
              "      <td>3.000000</td>\n",
              "      <td>27.333333</td>\n",
              "      <td>262.666667</td>\n",
              "      <td>1.000000</td>\n",
              "      <td>3.826604e+07</td>\n",
              "      <td>7541.026000</td>\n",
              "      <td>3228.000000</td>\n",
              "      <td>63.388889</td>\n",
              "      <td>75.662281</td>\n",
              "      <td>8.196850</td>\n",
              "      <td>17.201754</td>\n",
              "      <td>18.756140</td>\n",
              "      <td>19.612903</td>\n",
              "      <td>27.905983</td>\n",
              "      <td>45.083333</td>\n",
              "      <td>55.153846</td>\n",
              "      <td>39304.000000</td>\n",
              "      <td>4.000000</td>\n",
              "    </tr>\n",
              "  </tbody>\n",
              "</table>\n",
              "</div>"
            ],
            "text/plain": [
              "          Unnamed: 0        userId  ...          avgt2      age_group\n",
              "count  488877.000000  4.888770e+05  ...  488877.000000  488877.000000\n",
              "mean   271605.981815  4.236096e+07  ...     164.765782       1.741643\n",
              "std    156808.138002  1.821664e+07  ...     981.988886       1.088559\n",
              "min         0.000000  2.700000e+01  ...       0.000000       1.000000\n",
              "25%    135779.000000  3.537599e+07  ...       0.000000       1.000000\n",
              "50%    271560.000000  4.336270e+07  ...       0.000000       1.000000\n",
              "75%    407431.000000  5.370523e+07  ...     178.666667       2.000000\n",
              "max    543196.000000  7.904203e+07  ...   39304.000000       4.000000\n",
              "\n",
              "[8 rows x 27 columns]"
            ]
          },
          "metadata": {
            "tags": []
          },
          "execution_count": 9
        }
      ]
    },
    {
      "cell_type": "code",
      "metadata": {
        "colab": {
          "base_uri": "https://localhost:8080/",
          "height": 0
        },
        "id": "zsf07cg6S43G",
        "outputId": "0181fff8-ff84-458f-8ad2-3b678e79bfce"
      },
      "source": [
        "#null values in the dataset\n",
        "dataframe.isnull().sum()"
      ],
      "execution_count": 18,
      "outputs": [
        {
          "output_type": "execute_result",
          "data": {
            "text/plain": [
              "following_rate                     0\n",
              "followers_avg_age                  0\n",
              "following_avg_age                  0\n",
              "max_repetitive_punc                0\n",
              "num_of_hashtags_per_action         0\n",
              "emoji_count_per_action             0\n",
              "punctuations_per_action            0\n",
              "number_of_words_per_action         0\n",
              "avgCompletion                      0\n",
              "avgTimeSpent                       0\n",
              "avgDuration                        0\n",
              "avgComments                        0\n",
              "creations                          0\n",
              "content_views                      0\n",
              "num_of_comments                    0\n",
              "weekends_trails_watched_per_day    0\n",
              "weekdays_trails_watched_per_day    0\n",
              "slot1_trails_watched_per_day       0\n",
              "slot2_trails_watched_per_day       0\n",
              "slot3_trails_watched_per_day       0\n",
              "slot4_trails_watched_per_day       0\n",
              "avgt2                              0\n",
              "age_group                          0\n",
              "dtype: int64"
            ]
          },
          "metadata": {
            "tags": []
          },
          "execution_count": 18
        }
      ]
    },
    {
      "cell_type": "code",
      "metadata": {
        "colab": {
          "base_uri": "https://localhost:8080/",
          "height": 0
        },
        "id": "KdhjUIfdQE17",
        "outputId": "194ee780-a1c0-4b72-e7a2-8a9fc0c631af"
      },
      "source": [
        "#name of the features\n",
        "dataframe.columns"
      ],
      "execution_count": 12,
      "outputs": [
        {
          "output_type": "execute_result",
          "data": {
            "text/plain": [
              "Index(['Unnamed: 0', 'userId', 'tier', 'gender', 'following_rate',\n",
              "       'followers_avg_age', 'following_avg_age', 'max_repetitive_punc',\n",
              "       'num_of_hashtags_per_action', 'emoji_count_per_action',\n",
              "       'punctuations_per_action', 'number_of_words_per_action',\n",
              "       'avgCompletion', 'avgTimeSpent', 'avgDuration', 'avgComments',\n",
              "       'creations', 'content_views', 'num_of_comments',\n",
              "       'weekends_trails_watched_per_day', 'weekdays_trails_watched_per_day',\n",
              "       'slot1_trails_watched_per_day', 'slot2_trails_watched_per_day',\n",
              "       'slot3_trails_watched_per_day', 'slot4_trails_watched_per_day', 'avgt2',\n",
              "       'age_group'],\n",
              "      dtype='object')"
            ]
          },
          "metadata": {
            "tags": []
          },
          "execution_count": 12
        }
      ]
    },
    {
      "cell_type": "code",
      "metadata": {
        "colab": {
          "base_uri": "https://localhost:8080/",
          "height": 224
        },
        "id": "DF3uRWnjT9R6",
        "outputId": "6bfb5884-d666-4f8d-fe81-5ccc9d3c7655"
      },
      "source": [
        "#removing redundant features\n",
        "dataframe = dataframe.drop(['Unnamed: 0', 'userId', 'tier', 'gender'], axis=1)\n",
        "dataframe.head()"
      ],
      "execution_count": 13,
      "outputs": [
        {
          "output_type": "execute_result",
          "data": {
            "text/html": [
              "<div>\n",
              "<style scoped>\n",
              "    .dataframe tbody tr th:only-of-type {\n",
              "        vertical-align: middle;\n",
              "    }\n",
              "\n",
              "    .dataframe tbody tr th {\n",
              "        vertical-align: top;\n",
              "    }\n",
              "\n",
              "    .dataframe thead th {\n",
              "        text-align: right;\n",
              "    }\n",
              "</style>\n",
              "<table border=\"1\" class=\"dataframe\">\n",
              "  <thead>\n",
              "    <tr style=\"text-align: right;\">\n",
              "      <th></th>\n",
              "      <th>following_rate</th>\n",
              "      <th>followers_avg_age</th>\n",
              "      <th>following_avg_age</th>\n",
              "      <th>max_repetitive_punc</th>\n",
              "      <th>num_of_hashtags_per_action</th>\n",
              "      <th>emoji_count_per_action</th>\n",
              "      <th>punctuations_per_action</th>\n",
              "      <th>number_of_words_per_action</th>\n",
              "      <th>avgCompletion</th>\n",
              "      <th>avgTimeSpent</th>\n",
              "      <th>avgDuration</th>\n",
              "      <th>avgComments</th>\n",
              "      <th>creations</th>\n",
              "      <th>content_views</th>\n",
              "      <th>num_of_comments</th>\n",
              "      <th>weekends_trails_watched_per_day</th>\n",
              "      <th>weekdays_trails_watched_per_day</th>\n",
              "      <th>slot1_trails_watched_per_day</th>\n",
              "      <th>slot2_trails_watched_per_day</th>\n",
              "      <th>slot3_trails_watched_per_day</th>\n",
              "      <th>slot4_trails_watched_per_day</th>\n",
              "      <th>avgt2</th>\n",
              "      <th>age_group</th>\n",
              "    </tr>\n",
              "  </thead>\n",
              "  <tbody>\n",
              "    <tr>\n",
              "      <th>0</th>\n",
              "      <td>0.0</td>\n",
              "      <td>0.0</td>\n",
              "      <td>0.0</td>\n",
              "      <td>0</td>\n",
              "      <td>0.0</td>\n",
              "      <td>0.0</td>\n",
              "      <td>0.000000</td>\n",
              "      <td>0.000000</td>\n",
              "      <td>0.463330</td>\n",
              "      <td>34.160000</td>\n",
              "      <td>53.996091</td>\n",
              "      <td>0</td>\n",
              "      <td>0.000000</td>\n",
              "      <td>0.200000</td>\n",
              "      <td>0.0</td>\n",
              "      <td>0.041667</td>\n",
              "      <td>0.025000</td>\n",
              "      <td>0.0</td>\n",
              "      <td>0.000000</td>\n",
              "      <td>0.175000</td>\n",
              "      <td>0.033333</td>\n",
              "      <td>0.0</td>\n",
              "      <td>1</td>\n",
              "    </tr>\n",
              "    <tr>\n",
              "      <th>1</th>\n",
              "      <td>0.0</td>\n",
              "      <td>0.0</td>\n",
              "      <td>0.0</td>\n",
              "      <td>0</td>\n",
              "      <td>0.0</td>\n",
              "      <td>0.0</td>\n",
              "      <td>0.076923</td>\n",
              "      <td>0.153846</td>\n",
              "      <td>0.429468</td>\n",
              "      <td>15.285714</td>\n",
              "      <td>96.231625</td>\n",
              "      <td>0</td>\n",
              "      <td>0.008475</td>\n",
              "      <td>0.093220</td>\n",
              "      <td>0.0</td>\n",
              "      <td>0.012712</td>\n",
              "      <td>0.018644</td>\n",
              "      <td>0.0</td>\n",
              "      <td>0.084746</td>\n",
              "      <td>0.000000</td>\n",
              "      <td>0.033898</td>\n",
              "      <td>82.5</td>\n",
              "      <td>2</td>\n",
              "    </tr>\n",
              "    <tr>\n",
              "      <th>2</th>\n",
              "      <td>0.0</td>\n",
              "      <td>0.0</td>\n",
              "      <td>0.0</td>\n",
              "      <td>0</td>\n",
              "      <td>0.0</td>\n",
              "      <td>0.0</td>\n",
              "      <td>0.000000</td>\n",
              "      <td>0.000000</td>\n",
              "      <td>0.341657</td>\n",
              "      <td>22.000000</td>\n",
              "      <td>83.051415</td>\n",
              "      <td>0</td>\n",
              "      <td>0.000000</td>\n",
              "      <td>0.002786</td>\n",
              "      <td>0.0</td>\n",
              "      <td>0.000000</td>\n",
              "      <td>0.000557</td>\n",
              "      <td>0.0</td>\n",
              "      <td>0.002786</td>\n",
              "      <td>0.000000</td>\n",
              "      <td>0.000000</td>\n",
              "      <td>0.0</td>\n",
              "      <td>1</td>\n",
              "    </tr>\n",
              "    <tr>\n",
              "      <th>3</th>\n",
              "      <td>0.0</td>\n",
              "      <td>0.0</td>\n",
              "      <td>0.0</td>\n",
              "      <td>0</td>\n",
              "      <td>0.0</td>\n",
              "      <td>0.0</td>\n",
              "      <td>0.000000</td>\n",
              "      <td>0.000000</td>\n",
              "      <td>0.005735</td>\n",
              "      <td>3.000000</td>\n",
              "      <td>523.080000</td>\n",
              "      <td>0</td>\n",
              "      <td>0.000000</td>\n",
              "      <td>0.008403</td>\n",
              "      <td>0.0</td>\n",
              "      <td>0.000000</td>\n",
              "      <td>0.001681</td>\n",
              "      <td>0.0</td>\n",
              "      <td>0.000000</td>\n",
              "      <td>0.000000</td>\n",
              "      <td>0.008403</td>\n",
              "      <td>0.0</td>\n",
              "      <td>1</td>\n",
              "    </tr>\n",
              "    <tr>\n",
              "      <th>4</th>\n",
              "      <td>0.0</td>\n",
              "      <td>0.0</td>\n",
              "      <td>0.0</td>\n",
              "      <td>0</td>\n",
              "      <td>0.0</td>\n",
              "      <td>0.0</td>\n",
              "      <td>0.000000</td>\n",
              "      <td>0.000000</td>\n",
              "      <td>0.456549</td>\n",
              "      <td>12.333333</td>\n",
              "      <td>53.766640</td>\n",
              "      <td>0</td>\n",
              "      <td>0.000000</td>\n",
              "      <td>0.204918</td>\n",
              "      <td>0.0</td>\n",
              "      <td>0.000000</td>\n",
              "      <td>0.049180</td>\n",
              "      <td>0.0</td>\n",
              "      <td>0.008197</td>\n",
              "      <td>0.057377</td>\n",
              "      <td>0.180328</td>\n",
              "      <td>0.0</td>\n",
              "      <td>1</td>\n",
              "    </tr>\n",
              "  </tbody>\n",
              "</table>\n",
              "</div>"
            ],
            "text/plain": [
              "   following_rate  followers_avg_age  ...  avgt2  age_group\n",
              "0             0.0                0.0  ...    0.0          1\n",
              "1             0.0                0.0  ...   82.5          2\n",
              "2             0.0                0.0  ...    0.0          1\n",
              "3             0.0                0.0  ...    0.0          1\n",
              "4             0.0                0.0  ...    0.0          1\n",
              "\n",
              "[5 rows x 23 columns]"
            ]
          },
          "metadata": {
            "tags": []
          },
          "execution_count": 13
        }
      ]
    },
    {
      "cell_type": "code",
      "metadata": {
        "colab": {
          "base_uri": "https://localhost:8080/",
          "height": 0
        },
        "id": "fMCZcTYbT9Pl",
        "outputId": "4a95185c-cd56-4af9-b511-7ae892cdd865"
      },
      "source": [
        "#updated shape\n",
        "dataframe.shape"
      ],
      "execution_count": 14,
      "outputs": [
        {
          "output_type": "execute_result",
          "data": {
            "text/plain": [
              "(488877, 23)"
            ]
          },
          "metadata": {
            "tags": []
          },
          "execution_count": 14
        }
      ]
    },
    {
      "cell_type": "code",
      "metadata": {
        "colab": {
          "base_uri": "https://localhost:8080/",
          "height": 0
        },
        "id": "y3-7PHxzT9NO",
        "outputId": "33457f92-3bef-44e2-87ed-cb0fd88b9da9"
      },
      "source": [
        "#finding duplicate data\n",
        "duplicate_rows_df = dataframe[dataframe.duplicated()]\n",
        "print(\"number of duplicate rows: \", duplicate_rows_df.shape)"
      ],
      "execution_count": 15,
      "outputs": [
        {
          "output_type": "stream",
          "text": [
            "number of duplicate rows:  (4697, 23)\n"
          ],
          "name": "stdout"
        }
      ]
    },
    {
      "cell_type": "code",
      "metadata": {
        "colab": {
          "base_uri": "https://localhost:8080/",
          "height": 0
        },
        "id": "oCPA9kCYT9I4",
        "outputId": "357bfdec-14e4-45c0-9c43-cc319dd71ea9"
      },
      "source": [
        "dataframe.count() "
      ],
      "execution_count": 16,
      "outputs": [
        {
          "output_type": "execute_result",
          "data": {
            "text/plain": [
              "following_rate                     488877\n",
              "followers_avg_age                  488877\n",
              "following_avg_age                  488877\n",
              "max_repetitive_punc                488877\n",
              "num_of_hashtags_per_action         488877\n",
              "emoji_count_per_action             488877\n",
              "punctuations_per_action            488877\n",
              "number_of_words_per_action         488877\n",
              "avgCompletion                      488877\n",
              "avgTimeSpent                       488877\n",
              "avgDuration                        488877\n",
              "avgComments                        488877\n",
              "creations                          488877\n",
              "content_views                      488877\n",
              "num_of_comments                    488877\n",
              "weekends_trails_watched_per_day    488877\n",
              "weekdays_trails_watched_per_day    488877\n",
              "slot1_trails_watched_per_day       488877\n",
              "slot2_trails_watched_per_day       488877\n",
              "slot3_trails_watched_per_day       488877\n",
              "slot4_trails_watched_per_day       488877\n",
              "avgt2                              488877\n",
              "age_group                          488877\n",
              "dtype: int64"
            ]
          },
          "metadata": {
            "tags": []
          },
          "execution_count": 16
        }
      ]
    },
    {
      "cell_type": "code",
      "metadata": {
        "colab": {
          "base_uri": "https://localhost:8080/",
          "height": 224
        },
        "id": "n_WTtweDT9GA",
        "outputId": "7883e91f-c5c2-4af3-a0e8-d27d44efc8a2"
      },
      "source": [
        "#removing duplicate data\n",
        "dataframe = dataframe.drop_duplicates()\n",
        "dataframe.head(5)"
      ],
      "execution_count": 17,
      "outputs": [
        {
          "output_type": "execute_result",
          "data": {
            "text/html": [
              "<div>\n",
              "<style scoped>\n",
              "    .dataframe tbody tr th:only-of-type {\n",
              "        vertical-align: middle;\n",
              "    }\n",
              "\n",
              "    .dataframe tbody tr th {\n",
              "        vertical-align: top;\n",
              "    }\n",
              "\n",
              "    .dataframe thead th {\n",
              "        text-align: right;\n",
              "    }\n",
              "</style>\n",
              "<table border=\"1\" class=\"dataframe\">\n",
              "  <thead>\n",
              "    <tr style=\"text-align: right;\">\n",
              "      <th></th>\n",
              "      <th>following_rate</th>\n",
              "      <th>followers_avg_age</th>\n",
              "      <th>following_avg_age</th>\n",
              "      <th>max_repetitive_punc</th>\n",
              "      <th>num_of_hashtags_per_action</th>\n",
              "      <th>emoji_count_per_action</th>\n",
              "      <th>punctuations_per_action</th>\n",
              "      <th>number_of_words_per_action</th>\n",
              "      <th>avgCompletion</th>\n",
              "      <th>avgTimeSpent</th>\n",
              "      <th>avgDuration</th>\n",
              "      <th>avgComments</th>\n",
              "      <th>creations</th>\n",
              "      <th>content_views</th>\n",
              "      <th>num_of_comments</th>\n",
              "      <th>weekends_trails_watched_per_day</th>\n",
              "      <th>weekdays_trails_watched_per_day</th>\n",
              "      <th>slot1_trails_watched_per_day</th>\n",
              "      <th>slot2_trails_watched_per_day</th>\n",
              "      <th>slot3_trails_watched_per_day</th>\n",
              "      <th>slot4_trails_watched_per_day</th>\n",
              "      <th>avgt2</th>\n",
              "      <th>age_group</th>\n",
              "    </tr>\n",
              "  </thead>\n",
              "  <tbody>\n",
              "    <tr>\n",
              "      <th>0</th>\n",
              "      <td>0.0</td>\n",
              "      <td>0.0</td>\n",
              "      <td>0.0</td>\n",
              "      <td>0</td>\n",
              "      <td>0.0</td>\n",
              "      <td>0.0</td>\n",
              "      <td>0.000000</td>\n",
              "      <td>0.000000</td>\n",
              "      <td>0.463330</td>\n",
              "      <td>34.160000</td>\n",
              "      <td>53.996091</td>\n",
              "      <td>0</td>\n",
              "      <td>0.000000</td>\n",
              "      <td>0.200000</td>\n",
              "      <td>0.0</td>\n",
              "      <td>0.041667</td>\n",
              "      <td>0.025000</td>\n",
              "      <td>0.0</td>\n",
              "      <td>0.000000</td>\n",
              "      <td>0.175000</td>\n",
              "      <td>0.033333</td>\n",
              "      <td>0.0</td>\n",
              "      <td>1</td>\n",
              "    </tr>\n",
              "    <tr>\n",
              "      <th>1</th>\n",
              "      <td>0.0</td>\n",
              "      <td>0.0</td>\n",
              "      <td>0.0</td>\n",
              "      <td>0</td>\n",
              "      <td>0.0</td>\n",
              "      <td>0.0</td>\n",
              "      <td>0.076923</td>\n",
              "      <td>0.153846</td>\n",
              "      <td>0.429468</td>\n",
              "      <td>15.285714</td>\n",
              "      <td>96.231625</td>\n",
              "      <td>0</td>\n",
              "      <td>0.008475</td>\n",
              "      <td>0.093220</td>\n",
              "      <td>0.0</td>\n",
              "      <td>0.012712</td>\n",
              "      <td>0.018644</td>\n",
              "      <td>0.0</td>\n",
              "      <td>0.084746</td>\n",
              "      <td>0.000000</td>\n",
              "      <td>0.033898</td>\n",
              "      <td>82.5</td>\n",
              "      <td>2</td>\n",
              "    </tr>\n",
              "    <tr>\n",
              "      <th>2</th>\n",
              "      <td>0.0</td>\n",
              "      <td>0.0</td>\n",
              "      <td>0.0</td>\n",
              "      <td>0</td>\n",
              "      <td>0.0</td>\n",
              "      <td>0.0</td>\n",
              "      <td>0.000000</td>\n",
              "      <td>0.000000</td>\n",
              "      <td>0.341657</td>\n",
              "      <td>22.000000</td>\n",
              "      <td>83.051415</td>\n",
              "      <td>0</td>\n",
              "      <td>0.000000</td>\n",
              "      <td>0.002786</td>\n",
              "      <td>0.0</td>\n",
              "      <td>0.000000</td>\n",
              "      <td>0.000557</td>\n",
              "      <td>0.0</td>\n",
              "      <td>0.002786</td>\n",
              "      <td>0.000000</td>\n",
              "      <td>0.000000</td>\n",
              "      <td>0.0</td>\n",
              "      <td>1</td>\n",
              "    </tr>\n",
              "    <tr>\n",
              "      <th>3</th>\n",
              "      <td>0.0</td>\n",
              "      <td>0.0</td>\n",
              "      <td>0.0</td>\n",
              "      <td>0</td>\n",
              "      <td>0.0</td>\n",
              "      <td>0.0</td>\n",
              "      <td>0.000000</td>\n",
              "      <td>0.000000</td>\n",
              "      <td>0.005735</td>\n",
              "      <td>3.000000</td>\n",
              "      <td>523.080000</td>\n",
              "      <td>0</td>\n",
              "      <td>0.000000</td>\n",
              "      <td>0.008403</td>\n",
              "      <td>0.0</td>\n",
              "      <td>0.000000</td>\n",
              "      <td>0.001681</td>\n",
              "      <td>0.0</td>\n",
              "      <td>0.000000</td>\n",
              "      <td>0.000000</td>\n",
              "      <td>0.008403</td>\n",
              "      <td>0.0</td>\n",
              "      <td>1</td>\n",
              "    </tr>\n",
              "    <tr>\n",
              "      <th>4</th>\n",
              "      <td>0.0</td>\n",
              "      <td>0.0</td>\n",
              "      <td>0.0</td>\n",
              "      <td>0</td>\n",
              "      <td>0.0</td>\n",
              "      <td>0.0</td>\n",
              "      <td>0.000000</td>\n",
              "      <td>0.000000</td>\n",
              "      <td>0.456549</td>\n",
              "      <td>12.333333</td>\n",
              "      <td>53.766640</td>\n",
              "      <td>0</td>\n",
              "      <td>0.000000</td>\n",
              "      <td>0.204918</td>\n",
              "      <td>0.0</td>\n",
              "      <td>0.000000</td>\n",
              "      <td>0.049180</td>\n",
              "      <td>0.0</td>\n",
              "      <td>0.008197</td>\n",
              "      <td>0.057377</td>\n",
              "      <td>0.180328</td>\n",
              "      <td>0.0</td>\n",
              "      <td>1</td>\n",
              "    </tr>\n",
              "  </tbody>\n",
              "</table>\n",
              "</div>"
            ],
            "text/plain": [
              "   following_rate  followers_avg_age  ...  avgt2  age_group\n",
              "0             0.0                0.0  ...    0.0          1\n",
              "1             0.0                0.0  ...   82.5          2\n",
              "2             0.0                0.0  ...    0.0          1\n",
              "3             0.0                0.0  ...    0.0          1\n",
              "4             0.0                0.0  ...    0.0          1\n",
              "\n",
              "[5 rows x 23 columns]"
            ]
          },
          "metadata": {
            "tags": []
          },
          "execution_count": 17
        }
      ]
    },
    {
      "cell_type": "code",
      "metadata": {
        "colab": {
          "base_uri": "https://localhost:8080/",
          "height": 1410
        },
        "id": "qklasxPZT9Ap",
        "outputId": "12c015c8-01be-412e-c58e-922e20f2e883"
      },
      "source": [
        "#plotting heatmap to estimate correlation\n",
        "plt.figure(figsize=(20,10))\n",
        "c= dataframe.corr()\n",
        "sns.heatmap(c,cmap=\"BrBG\",annot=True)\n",
        "c"
      ],
      "execution_count": 19,
      "outputs": [
        {
          "output_type": "execute_result",
          "data": {
            "text/html": [
              "<div>\n",
              "<style scoped>\n",
              "    .dataframe tbody tr th:only-of-type {\n",
              "        vertical-align: middle;\n",
              "    }\n",
              "\n",
              "    .dataframe tbody tr th {\n",
              "        vertical-align: top;\n",
              "    }\n",
              "\n",
              "    .dataframe thead th {\n",
              "        text-align: right;\n",
              "    }\n",
              "</style>\n",
              "<table border=\"1\" class=\"dataframe\">\n",
              "  <thead>\n",
              "    <tr style=\"text-align: right;\">\n",
              "      <th></th>\n",
              "      <th>following_rate</th>\n",
              "      <th>followers_avg_age</th>\n",
              "      <th>following_avg_age</th>\n",
              "      <th>max_repetitive_punc</th>\n",
              "      <th>num_of_hashtags_per_action</th>\n",
              "      <th>emoji_count_per_action</th>\n",
              "      <th>punctuations_per_action</th>\n",
              "      <th>number_of_words_per_action</th>\n",
              "      <th>avgCompletion</th>\n",
              "      <th>avgTimeSpent</th>\n",
              "      <th>avgDuration</th>\n",
              "      <th>avgComments</th>\n",
              "      <th>creations</th>\n",
              "      <th>content_views</th>\n",
              "      <th>num_of_comments</th>\n",
              "      <th>weekends_trails_watched_per_day</th>\n",
              "      <th>weekdays_trails_watched_per_day</th>\n",
              "      <th>slot1_trails_watched_per_day</th>\n",
              "      <th>slot2_trails_watched_per_day</th>\n",
              "      <th>slot3_trails_watched_per_day</th>\n",
              "      <th>slot4_trails_watched_per_day</th>\n",
              "      <th>avgt2</th>\n",
              "      <th>age_group</th>\n",
              "    </tr>\n",
              "  </thead>\n",
              "  <tbody>\n",
              "    <tr>\n",
              "      <th>following_rate</th>\n",
              "      <td>1.000000</td>\n",
              "      <td>0.064627</td>\n",
              "      <td>0.060661</td>\n",
              "      <td>0.041980</td>\n",
              "      <td>-0.000274</td>\n",
              "      <td>-0.000110</td>\n",
              "      <td>0.000411</td>\n",
              "      <td>0.013450</td>\n",
              "      <td>-0.002220</td>\n",
              "      <td>-0.000042</td>\n",
              "      <td>0.002608</td>\n",
              "      <td>0.048708</td>\n",
              "      <td>0.068396</td>\n",
              "      <td>0.068030</td>\n",
              "      <td>0.097303</td>\n",
              "      <td>0.069358</td>\n",
              "      <td>0.078690</td>\n",
              "      <td>0.037360</td>\n",
              "      <td>0.067056</td>\n",
              "      <td>0.066203</td>\n",
              "      <td>0.067468</td>\n",
              "      <td>0.000332</td>\n",
              "      <td>0.023026</td>\n",
              "    </tr>\n",
              "    <tr>\n",
              "      <th>followers_avg_age</th>\n",
              "      <td>0.064627</td>\n",
              "      <td>1.000000</td>\n",
              "      <td>0.939531</td>\n",
              "      <td>0.171550</td>\n",
              "      <td>0.007064</td>\n",
              "      <td>0.002770</td>\n",
              "      <td>0.012022</td>\n",
              "      <td>0.122155</td>\n",
              "      <td>-0.006192</td>\n",
              "      <td>0.003223</td>\n",
              "      <td>0.070717</td>\n",
              "      <td>0.066604</td>\n",
              "      <td>0.096358</td>\n",
              "      <td>0.130748</td>\n",
              "      <td>0.091183</td>\n",
              "      <td>0.141807</td>\n",
              "      <td>0.148516</td>\n",
              "      <td>0.089925</td>\n",
              "      <td>0.123518</td>\n",
              "      <td>0.126916</td>\n",
              "      <td>0.129670</td>\n",
              "      <td>0.105310</td>\n",
              "      <td>0.283221</td>\n",
              "    </tr>\n",
              "    <tr>\n",
              "      <th>following_avg_age</th>\n",
              "      <td>0.060661</td>\n",
              "      <td>0.939531</td>\n",
              "      <td>1.000000</td>\n",
              "      <td>0.164260</td>\n",
              "      <td>0.007321</td>\n",
              "      <td>0.002994</td>\n",
              "      <td>0.012344</td>\n",
              "      <td>0.123634</td>\n",
              "      <td>-0.010080</td>\n",
              "      <td>0.003128</td>\n",
              "      <td>0.076087</td>\n",
              "      <td>0.063899</td>\n",
              "      <td>0.089151</td>\n",
              "      <td>0.115404</td>\n",
              "      <td>0.086155</td>\n",
              "      <td>0.128692</td>\n",
              "      <td>0.132141</td>\n",
              "      <td>0.081706</td>\n",
              "      <td>0.110698</td>\n",
              "      <td>0.112844</td>\n",
              "      <td>0.116268</td>\n",
              "      <td>0.108262</td>\n",
              "      <td>0.283606</td>\n",
              "    </tr>\n",
              "    <tr>\n",
              "      <th>max_repetitive_punc</th>\n",
              "      <td>0.041980</td>\n",
              "      <td>0.171550</td>\n",
              "      <td>0.164260</td>\n",
              "      <td>1.000000</td>\n",
              "      <td>0.013153</td>\n",
              "      <td>0.036527</td>\n",
              "      <td>0.107390</td>\n",
              "      <td>0.113329</td>\n",
              "      <td>0.015527</td>\n",
              "      <td>0.001446</td>\n",
              "      <td>0.012854</td>\n",
              "      <td>0.085125</td>\n",
              "      <td>0.128086</td>\n",
              "      <td>0.103561</td>\n",
              "      <td>0.134346</td>\n",
              "      <td>0.124273</td>\n",
              "      <td>0.131502</td>\n",
              "      <td>0.076426</td>\n",
              "      <td>0.108733</td>\n",
              "      <td>0.116887</td>\n",
              "      <td>0.111418</td>\n",
              "      <td>0.014853</td>\n",
              "      <td>0.149345</td>\n",
              "    </tr>\n",
              "    <tr>\n",
              "      <th>num_of_hashtags_per_action</th>\n",
              "      <td>-0.000274</td>\n",
              "      <td>0.007064</td>\n",
              "      <td>0.007321</td>\n",
              "      <td>0.013153</td>\n",
              "      <td>1.000000</td>\n",
              "      <td>0.082207</td>\n",
              "      <td>0.246667</td>\n",
              "      <td>0.063880</td>\n",
              "      <td>-0.000721</td>\n",
              "      <td>-0.000028</td>\n",
              "      <td>0.006733</td>\n",
              "      <td>0.000042</td>\n",
              "      <td>0.000199</td>\n",
              "      <td>-0.007352</td>\n",
              "      <td>-0.000680</td>\n",
              "      <td>-0.005134</td>\n",
              "      <td>-0.006094</td>\n",
              "      <td>-0.002153</td>\n",
              "      <td>-0.005721</td>\n",
              "      <td>-0.005167</td>\n",
              "      <td>-0.004853</td>\n",
              "      <td>0.005892</td>\n",
              "      <td>0.004380</td>\n",
              "    </tr>\n",
              "    <tr>\n",
              "      <th>emoji_count_per_action</th>\n",
              "      <td>-0.000110</td>\n",
              "      <td>0.002770</td>\n",
              "      <td>0.002994</td>\n",
              "      <td>0.036527</td>\n",
              "      <td>0.082207</td>\n",
              "      <td>1.000000</td>\n",
              "      <td>0.268522</td>\n",
              "      <td>0.091354</td>\n",
              "      <td>0.006488</td>\n",
              "      <td>-0.000079</td>\n",
              "      <td>0.000638</td>\n",
              "      <td>-0.000750</td>\n",
              "      <td>-0.000175</td>\n",
              "      <td>-0.015141</td>\n",
              "      <td>-0.001215</td>\n",
              "      <td>-0.010463</td>\n",
              "      <td>-0.012807</td>\n",
              "      <td>-0.004774</td>\n",
              "      <td>-0.011806</td>\n",
              "      <td>-0.010383</td>\n",
              "      <td>-0.010428</td>\n",
              "      <td>0.000295</td>\n",
              "      <td>0.003045</td>\n",
              "    </tr>\n",
              "    <tr>\n",
              "      <th>punctuations_per_action</th>\n",
              "      <td>0.000411</td>\n",
              "      <td>0.012022</td>\n",
              "      <td>0.012344</td>\n",
              "      <td>0.107390</td>\n",
              "      <td>0.246667</td>\n",
              "      <td>0.268522</td>\n",
              "      <td>1.000000</td>\n",
              "      <td>0.178515</td>\n",
              "      <td>0.005640</td>\n",
              "      <td>-0.000131</td>\n",
              "      <td>0.011597</td>\n",
              "      <td>-0.000408</td>\n",
              "      <td>0.000381</td>\n",
              "      <td>-0.025386</td>\n",
              "      <td>-0.001485</td>\n",
              "      <td>-0.017807</td>\n",
              "      <td>-0.021284</td>\n",
              "      <td>-0.007671</td>\n",
              "      <td>-0.019781</td>\n",
              "      <td>-0.017714</td>\n",
              "      <td>-0.017244</td>\n",
              "      <td>0.006412</td>\n",
              "      <td>0.018068</td>\n",
              "    </tr>\n",
              "    <tr>\n",
              "      <th>number_of_words_per_action</th>\n",
              "      <td>0.013450</td>\n",
              "      <td>0.122155</td>\n",
              "      <td>0.123634</td>\n",
              "      <td>0.113329</td>\n",
              "      <td>0.063880</td>\n",
              "      <td>0.091354</td>\n",
              "      <td>0.178515</td>\n",
              "      <td>1.000000</td>\n",
              "      <td>-0.007281</td>\n",
              "      <td>0.000408</td>\n",
              "      <td>0.094934</td>\n",
              "      <td>0.084354</td>\n",
              "      <td>0.090588</td>\n",
              "      <td>-0.052488</td>\n",
              "      <td>0.105745</td>\n",
              "      <td>-0.024688</td>\n",
              "      <td>-0.029912</td>\n",
              "      <td>-0.000812</td>\n",
              "      <td>-0.033663</td>\n",
              "      <td>-0.023853</td>\n",
              "      <td>-0.024039</td>\n",
              "      <td>0.112296</td>\n",
              "      <td>0.155514</td>\n",
              "    </tr>\n",
              "    <tr>\n",
              "      <th>avgCompletion</th>\n",
              "      <td>-0.002220</td>\n",
              "      <td>-0.006192</td>\n",
              "      <td>-0.010080</td>\n",
              "      <td>0.015527</td>\n",
              "      <td>-0.000721</td>\n",
              "      <td>0.006488</td>\n",
              "      <td>0.005640</td>\n",
              "      <td>-0.007281</td>\n",
              "      <td>1.000000</td>\n",
              "      <td>-0.001659</td>\n",
              "      <td>-0.508405</td>\n",
              "      <td>-0.002175</td>\n",
              "      <td>-0.007385</td>\n",
              "      <td>0.118825</td>\n",
              "      <td>0.004823</td>\n",
              "      <td>0.112352</td>\n",
              "      <td>0.097855</td>\n",
              "      <td>0.029324</td>\n",
              "      <td>0.100000</td>\n",
              "      <td>0.096615</td>\n",
              "      <td>0.086290</td>\n",
              "      <td>-0.004360</td>\n",
              "      <td>0.054431</td>\n",
              "    </tr>\n",
              "    <tr>\n",
              "      <th>avgTimeSpent</th>\n",
              "      <td>-0.000042</td>\n",
              "      <td>0.003223</td>\n",
              "      <td>0.003128</td>\n",
              "      <td>0.001446</td>\n",
              "      <td>-0.000028</td>\n",
              "      <td>-0.000079</td>\n",
              "      <td>-0.000131</td>\n",
              "      <td>0.000408</td>\n",
              "      <td>-0.001659</td>\n",
              "      <td>1.000000</td>\n",
              "      <td>0.001692</td>\n",
              "      <td>0.000127</td>\n",
              "      <td>-0.000060</td>\n",
              "      <td>-0.000357</td>\n",
              "      <td>-0.000046</td>\n",
              "      <td>-0.000230</td>\n",
              "      <td>-0.000301</td>\n",
              "      <td>-0.000275</td>\n",
              "      <td>-0.000178</td>\n",
              "      <td>-0.000067</td>\n",
              "      <td>-0.000407</td>\n",
              "      <td>0.002326</td>\n",
              "      <td>0.001515</td>\n",
              "    </tr>\n",
              "    <tr>\n",
              "      <th>avgDuration</th>\n",
              "      <td>0.002608</td>\n",
              "      <td>0.070717</td>\n",
              "      <td>0.076087</td>\n",
              "      <td>0.012854</td>\n",
              "      <td>0.006733</td>\n",
              "      <td>0.000638</td>\n",
              "      <td>0.011597</td>\n",
              "      <td>0.094934</td>\n",
              "      <td>-0.508405</td>\n",
              "      <td>0.001692</td>\n",
              "      <td>1.000000</td>\n",
              "      <td>0.017203</td>\n",
              "      <td>0.013791</td>\n",
              "      <td>-0.104856</td>\n",
              "      <td>0.011292</td>\n",
              "      <td>-0.089087</td>\n",
              "      <td>-0.077187</td>\n",
              "      <td>-0.025644</td>\n",
              "      <td>-0.082185</td>\n",
              "      <td>-0.071628</td>\n",
              "      <td>-0.068957</td>\n",
              "      <td>0.069954</td>\n",
              "      <td>0.041545</td>\n",
              "    </tr>\n",
              "    <tr>\n",
              "      <th>avgComments</th>\n",
              "      <td>0.048708</td>\n",
              "      <td>0.066604</td>\n",
              "      <td>0.063899</td>\n",
              "      <td>0.085125</td>\n",
              "      <td>0.000042</td>\n",
              "      <td>-0.000750</td>\n",
              "      <td>-0.000408</td>\n",
              "      <td>0.084354</td>\n",
              "      <td>-0.002175</td>\n",
              "      <td>0.000127</td>\n",
              "      <td>0.017203</td>\n",
              "      <td>1.000000</td>\n",
              "      <td>0.060591</td>\n",
              "      <td>0.079781</td>\n",
              "      <td>0.761900</td>\n",
              "      <td>0.083949</td>\n",
              "      <td>0.098940</td>\n",
              "      <td>0.060251</td>\n",
              "      <td>0.073687</td>\n",
              "      <td>0.088947</td>\n",
              "      <td>0.080343</td>\n",
              "      <td>0.011107</td>\n",
              "      <td>0.038779</td>\n",
              "    </tr>\n",
              "    <tr>\n",
              "      <th>creations</th>\n",
              "      <td>0.068396</td>\n",
              "      <td>0.096358</td>\n",
              "      <td>0.089151</td>\n",
              "      <td>0.128086</td>\n",
              "      <td>0.000199</td>\n",
              "      <td>-0.000175</td>\n",
              "      <td>0.000381</td>\n",
              "      <td>0.090588</td>\n",
              "      <td>-0.007385</td>\n",
              "      <td>-0.000060</td>\n",
              "      <td>0.013791</td>\n",
              "      <td>0.060591</td>\n",
              "      <td>1.000000</td>\n",
              "      <td>0.144034</td>\n",
              "      <td>0.102208</td>\n",
              "      <td>0.154994</td>\n",
              "      <td>0.182643</td>\n",
              "      <td>0.114001</td>\n",
              "      <td>0.140368</td>\n",
              "      <td>0.158446</td>\n",
              "      <td>0.148980</td>\n",
              "      <td>0.005404</td>\n",
              "      <td>0.089911</td>\n",
              "    </tr>\n",
              "    <tr>\n",
              "      <th>content_views</th>\n",
              "      <td>0.068030</td>\n",
              "      <td>0.130748</td>\n",
              "      <td>0.115404</td>\n",
              "      <td>0.103561</td>\n",
              "      <td>-0.007352</td>\n",
              "      <td>-0.015141</td>\n",
              "      <td>-0.025386</td>\n",
              "      <td>-0.052488</td>\n",
              "      <td>0.118825</td>\n",
              "      <td>-0.000357</td>\n",
              "      <td>-0.104856</td>\n",
              "      <td>0.079781</td>\n",
              "      <td>0.144034</td>\n",
              "      <td>1.000000</td>\n",
              "      <td>0.147656</td>\n",
              "      <td>0.776431</td>\n",
              "      <td>0.927460</td>\n",
              "      <td>0.405704</td>\n",
              "      <td>0.747002</td>\n",
              "      <td>0.795674</td>\n",
              "      <td>0.794987</td>\n",
              "      <td>-0.017680</td>\n",
              "      <td>0.161597</td>\n",
              "    </tr>\n",
              "    <tr>\n",
              "      <th>num_of_comments</th>\n",
              "      <td>0.097303</td>\n",
              "      <td>0.091183</td>\n",
              "      <td>0.086155</td>\n",
              "      <td>0.134346</td>\n",
              "      <td>-0.000680</td>\n",
              "      <td>-0.001215</td>\n",
              "      <td>-0.001485</td>\n",
              "      <td>0.105745</td>\n",
              "      <td>0.004823</td>\n",
              "      <td>-0.000046</td>\n",
              "      <td>0.011292</td>\n",
              "      <td>0.761900</td>\n",
              "      <td>0.102208</td>\n",
              "      <td>0.147656</td>\n",
              "      <td>1.000000</td>\n",
              "      <td>0.152776</td>\n",
              "      <td>0.176121</td>\n",
              "      <td>0.106095</td>\n",
              "      <td>0.135855</td>\n",
              "      <td>0.154204</td>\n",
              "      <td>0.146233</td>\n",
              "      <td>0.005010</td>\n",
              "      <td>0.063129</td>\n",
              "    </tr>\n",
              "    <tr>\n",
              "      <th>weekends_trails_watched_per_day</th>\n",
              "      <td>0.069358</td>\n",
              "      <td>0.141807</td>\n",
              "      <td>0.128692</td>\n",
              "      <td>0.124273</td>\n",
              "      <td>-0.005134</td>\n",
              "      <td>-0.010463</td>\n",
              "      <td>-0.017807</td>\n",
              "      <td>-0.024688</td>\n",
              "      <td>0.112352</td>\n",
              "      <td>-0.000230</td>\n",
              "      <td>-0.089087</td>\n",
              "      <td>0.083949</td>\n",
              "      <td>0.154994</td>\n",
              "      <td>0.776431</td>\n",
              "      <td>0.152776</td>\n",
              "      <td>1.000000</td>\n",
              "      <td>0.615692</td>\n",
              "      <td>0.349639</td>\n",
              "      <td>0.627820</td>\n",
              "      <td>0.668860</td>\n",
              "      <td>0.671757</td>\n",
              "      <td>-0.010615</td>\n",
              "      <td>0.151092</td>\n",
              "    </tr>\n",
              "    <tr>\n",
              "      <th>weekdays_trails_watched_per_day</th>\n",
              "      <td>0.078690</td>\n",
              "      <td>0.148516</td>\n",
              "      <td>0.132141</td>\n",
              "      <td>0.131502</td>\n",
              "      <td>-0.006094</td>\n",
              "      <td>-0.012807</td>\n",
              "      <td>-0.021284</td>\n",
              "      <td>-0.029912</td>\n",
              "      <td>0.097855</td>\n",
              "      <td>-0.000301</td>\n",
              "      <td>-0.077187</td>\n",
              "      <td>0.098940</td>\n",
              "      <td>0.182643</td>\n",
              "      <td>0.927460</td>\n",
              "      <td>0.176121</td>\n",
              "      <td>0.615692</td>\n",
              "      <td>1.000000</td>\n",
              "      <td>0.422917</td>\n",
              "      <td>0.735627</td>\n",
              "      <td>0.789458</td>\n",
              "      <td>0.794146</td>\n",
              "      <td>-0.012768</td>\n",
              "      <td>0.167661</td>\n",
              "    </tr>\n",
              "    <tr>\n",
              "      <th>slot1_trails_watched_per_day</th>\n",
              "      <td>0.037360</td>\n",
              "      <td>0.089925</td>\n",
              "      <td>0.081706</td>\n",
              "      <td>0.076426</td>\n",
              "      <td>-0.002153</td>\n",
              "      <td>-0.004774</td>\n",
              "      <td>-0.007671</td>\n",
              "      <td>-0.000812</td>\n",
              "      <td>0.029324</td>\n",
              "      <td>-0.000275</td>\n",
              "      <td>-0.025644</td>\n",
              "      <td>0.060251</td>\n",
              "      <td>0.114001</td>\n",
              "      <td>0.405704</td>\n",
              "      <td>0.106095</td>\n",
              "      <td>0.349639</td>\n",
              "      <td>0.422917</td>\n",
              "      <td>1.000000</td>\n",
              "      <td>0.216280</td>\n",
              "      <td>0.224847</td>\n",
              "      <td>0.267762</td>\n",
              "      <td>-0.002644</td>\n",
              "      <td>0.104405</td>\n",
              "    </tr>\n",
              "    <tr>\n",
              "      <th>slot2_trails_watched_per_day</th>\n",
              "      <td>0.067056</td>\n",
              "      <td>0.123518</td>\n",
              "      <td>0.110698</td>\n",
              "      <td>0.108733</td>\n",
              "      <td>-0.005721</td>\n",
              "      <td>-0.011806</td>\n",
              "      <td>-0.019781</td>\n",
              "      <td>-0.033663</td>\n",
              "      <td>0.100000</td>\n",
              "      <td>-0.000178</td>\n",
              "      <td>-0.082185</td>\n",
              "      <td>0.073687</td>\n",
              "      <td>0.140368</td>\n",
              "      <td>0.747002</td>\n",
              "      <td>0.135855</td>\n",
              "      <td>0.627820</td>\n",
              "      <td>0.735627</td>\n",
              "      <td>0.216280</td>\n",
              "      <td>1.000000</td>\n",
              "      <td>0.520170</td>\n",
              "      <td>0.454510</td>\n",
              "      <td>-0.013665</td>\n",
              "      <td>0.123189</td>\n",
              "    </tr>\n",
              "    <tr>\n",
              "      <th>slot3_trails_watched_per_day</th>\n",
              "      <td>0.066203</td>\n",
              "      <td>0.126916</td>\n",
              "      <td>0.112844</td>\n",
              "      <td>0.116887</td>\n",
              "      <td>-0.005167</td>\n",
              "      <td>-0.010383</td>\n",
              "      <td>-0.017714</td>\n",
              "      <td>-0.023853</td>\n",
              "      <td>0.096615</td>\n",
              "      <td>-0.000067</td>\n",
              "      <td>-0.071628</td>\n",
              "      <td>0.088947</td>\n",
              "      <td>0.158446</td>\n",
              "      <td>0.795674</td>\n",
              "      <td>0.154204</td>\n",
              "      <td>0.668860</td>\n",
              "      <td>0.789458</td>\n",
              "      <td>0.224847</td>\n",
              "      <td>0.520170</td>\n",
              "      <td>1.000000</td>\n",
              "      <td>0.532183</td>\n",
              "      <td>-0.011191</td>\n",
              "      <td>0.140953</td>\n",
              "    </tr>\n",
              "    <tr>\n",
              "      <th>slot4_trails_watched_per_day</th>\n",
              "      <td>0.067468</td>\n",
              "      <td>0.129670</td>\n",
              "      <td>0.116268</td>\n",
              "      <td>0.111418</td>\n",
              "      <td>-0.004853</td>\n",
              "      <td>-0.010428</td>\n",
              "      <td>-0.017244</td>\n",
              "      <td>-0.024039</td>\n",
              "      <td>0.086290</td>\n",
              "      <td>-0.000407</td>\n",
              "      <td>-0.068957</td>\n",
              "      <td>0.080343</td>\n",
              "      <td>0.148980</td>\n",
              "      <td>0.794987</td>\n",
              "      <td>0.146233</td>\n",
              "      <td>0.671757</td>\n",
              "      <td>0.794146</td>\n",
              "      <td>0.267762</td>\n",
              "      <td>0.454510</td>\n",
              "      <td>0.532183</td>\n",
              "      <td>1.000000</td>\n",
              "      <td>-0.009093</td>\n",
              "      <td>0.152829</td>\n",
              "    </tr>\n",
              "    <tr>\n",
              "      <th>avgt2</th>\n",
              "      <td>0.000332</td>\n",
              "      <td>0.105310</td>\n",
              "      <td>0.108262</td>\n",
              "      <td>0.014853</td>\n",
              "      <td>0.005892</td>\n",
              "      <td>0.000295</td>\n",
              "      <td>0.006412</td>\n",
              "      <td>0.112296</td>\n",
              "      <td>-0.004360</td>\n",
              "      <td>0.002326</td>\n",
              "      <td>0.069954</td>\n",
              "      <td>0.011107</td>\n",
              "      <td>0.005404</td>\n",
              "      <td>-0.017680</td>\n",
              "      <td>0.005010</td>\n",
              "      <td>-0.010615</td>\n",
              "      <td>-0.012768</td>\n",
              "      <td>-0.002644</td>\n",
              "      <td>-0.013665</td>\n",
              "      <td>-0.011191</td>\n",
              "      <td>-0.009093</td>\n",
              "      <td>1.000000</td>\n",
              "      <td>0.144341</td>\n",
              "    </tr>\n",
              "    <tr>\n",
              "      <th>age_group</th>\n",
              "      <td>0.023026</td>\n",
              "      <td>0.283221</td>\n",
              "      <td>0.283606</td>\n",
              "      <td>0.149345</td>\n",
              "      <td>0.004380</td>\n",
              "      <td>0.003045</td>\n",
              "      <td>0.018068</td>\n",
              "      <td>0.155514</td>\n",
              "      <td>0.054431</td>\n",
              "      <td>0.001515</td>\n",
              "      <td>0.041545</td>\n",
              "      <td>0.038779</td>\n",
              "      <td>0.089911</td>\n",
              "      <td>0.161597</td>\n",
              "      <td>0.063129</td>\n",
              "      <td>0.151092</td>\n",
              "      <td>0.167661</td>\n",
              "      <td>0.104405</td>\n",
              "      <td>0.123189</td>\n",
              "      <td>0.140953</td>\n",
              "      <td>0.152829</td>\n",
              "      <td>0.144341</td>\n",
              "      <td>1.000000</td>\n",
              "    </tr>\n",
              "  </tbody>\n",
              "</table>\n",
              "</div>"
            ],
            "text/plain": [
              "                                 following_rate  ...  age_group\n",
              "following_rate                         1.000000  ...   0.023026\n",
              "followers_avg_age                      0.064627  ...   0.283221\n",
              "following_avg_age                      0.060661  ...   0.283606\n",
              "max_repetitive_punc                    0.041980  ...   0.149345\n",
              "num_of_hashtags_per_action            -0.000274  ...   0.004380\n",
              "emoji_count_per_action                -0.000110  ...   0.003045\n",
              "punctuations_per_action                0.000411  ...   0.018068\n",
              "number_of_words_per_action             0.013450  ...   0.155514\n",
              "avgCompletion                         -0.002220  ...   0.054431\n",
              "avgTimeSpent                          -0.000042  ...   0.001515\n",
              "avgDuration                            0.002608  ...   0.041545\n",
              "avgComments                            0.048708  ...   0.038779\n",
              "creations                              0.068396  ...   0.089911\n",
              "content_views                          0.068030  ...   0.161597\n",
              "num_of_comments                        0.097303  ...   0.063129\n",
              "weekends_trails_watched_per_day        0.069358  ...   0.151092\n",
              "weekdays_trails_watched_per_day        0.078690  ...   0.167661\n",
              "slot1_trails_watched_per_day           0.037360  ...   0.104405\n",
              "slot2_trails_watched_per_day           0.067056  ...   0.123189\n",
              "slot3_trails_watched_per_day           0.066203  ...   0.140953\n",
              "slot4_trails_watched_per_day           0.067468  ...   0.152829\n",
              "avgt2                                  0.000332  ...   0.144341\n",
              "age_group                              0.023026  ...   1.000000\n",
              "\n",
              "[23 rows x 23 columns]"
            ]
          },
          "metadata": {
            "tags": []
          },
          "execution_count": 19
        },
        {
          "output_type": "display_data",
          "data": {
            "image/png": "[encoded data removed]",
            "text/plain": [
              "<Figure size 1440x720 with 2 Axes>"
            ]
          },
          "metadata": {
            "tags": [],
            "needs_background": "light"
          }
        }
      ]
    },
    {
      "cell_type": "code",
      "metadata": {
        "colab": {
          "base_uri": "https://localhost:8080/",
          "height": 0
        },
        "id": "T4zhC93kac3y",
        "outputId": "2e1b8824-86e2-407c-ce16-642c30ad3ebe"
      },
      "source": [
        "#finding target classes\n",
        "pd.unique(dataframe['age_group'])"
      ],
      "execution_count": 20,
      "outputs": [
        {
          "output_type": "execute_result",
          "data": {
            "text/plain": [
              "array([1, 2, 3, 4])"
            ]
          },
          "metadata": {
            "tags": []
          },
          "execution_count": 20
        }
      ]
    },
    {
      "cell_type": "code",
      "metadata": {
        "id": "93dJzDxGS4q-"
      },
      "source": [
        "#excluding target column before normalization\n",
        "data = dataframe.drop(['age_group'], axis=1)"
      ],
      "execution_count": 21,
      "outputs": []
    },
    {
      "cell_type": "markdown",
      "metadata": {
        "id": "Yi8P6uLaYSd7"
      },
      "source": [
        "### Normalization"
      ]
    },
    {
      "cell_type": "code",
      "metadata": {
        "colab": {
          "base_uri": "https://localhost:8080/",
          "height": 224
        },
        "id": "t01vduFiYrql",
        "outputId": "d2601706-a0f2-406a-d92b-b9a2930d47c4"
      },
      "source": [
        "preprocessed_data = preprocessing.normalize(data)\n",
        "normalized_dataframe = pd.DataFrame(preprocessed_data)\n",
        "normalized_dataframe.head()"
      ],
      "execution_count": 22,
      "outputs": [
        {
          "output_type": "execute_result",
          "data": {
            "text/html": [
              "<div>\n",
              "<style scoped>\n",
              "    .dataframe tbody tr th:only-of-type {\n",
              "        vertical-align: middle;\n",
              "    }\n",
              "\n",
              "    .dataframe tbody tr th {\n",
              "        vertical-align: top;\n",
              "    }\n",
              "\n",
              "    .dataframe thead th {\n",
              "        text-align: right;\n",
              "    }\n",
              "</style>\n",
              "<table border=\"1\" class=\"dataframe\">\n",
              "  <thead>\n",
              "    <tr style=\"text-align: right;\">\n",
              "      <th></th>\n",
              "      <th>0</th>\n",
              "      <th>1</th>\n",
              "      <th>2</th>\n",
              "      <th>3</th>\n",
              "      <th>4</th>\n",
              "      <th>5</th>\n",
              "      <th>6</th>\n",
              "      <th>7</th>\n",
              "      <th>8</th>\n",
              "      <th>9</th>\n",
              "      <th>10</th>\n",
              "      <th>11</th>\n",
              "      <th>12</th>\n",
              "      <th>13</th>\n",
              "      <th>14</th>\n",
              "      <th>15</th>\n",
              "      <th>16</th>\n",
              "      <th>17</th>\n",
              "      <th>18</th>\n",
              "      <th>19</th>\n",
              "      <th>20</th>\n",
              "      <th>21</th>\n",
              "    </tr>\n",
              "  </thead>\n",
              "  <tbody>\n",
              "    <tr>\n",
              "      <th>0</th>\n",
              "      <td>0.0</td>\n",
              "      <td>0.0</td>\n",
              "      <td>0.0</td>\n",
              "      <td>0.0</td>\n",
              "      <td>0.0</td>\n",
              "      <td>0.0</td>\n",
              "      <td>0.000000</td>\n",
              "      <td>0.000000</td>\n",
              "      <td>0.007251</td>\n",
              "      <td>0.534614</td>\n",
              "      <td>0.845055</td>\n",
              "      <td>0.0</td>\n",
              "      <td>0.000000</td>\n",
              "      <td>0.003130</td>\n",
              "      <td>0.0</td>\n",
              "      <td>0.000652</td>\n",
              "      <td>0.000391</td>\n",
              "      <td>0.0</td>\n",
              "      <td>0.000000</td>\n",
              "      <td>0.002739</td>\n",
              "      <td>0.000522</td>\n",
              "      <td>0.000000</td>\n",
              "    </tr>\n",
              "    <tr>\n",
              "      <th>1</th>\n",
              "      <td>0.0</td>\n",
              "      <td>0.0</td>\n",
              "      <td>0.0</td>\n",
              "      <td>0.0</td>\n",
              "      <td>0.0</td>\n",
              "      <td>0.0</td>\n",
              "      <td>0.000602</td>\n",
              "      <td>0.001205</td>\n",
              "      <td>0.003364</td>\n",
              "      <td>0.119725</td>\n",
              "      <td>0.753729</td>\n",
              "      <td>0.0</td>\n",
              "      <td>0.000066</td>\n",
              "      <td>0.000730</td>\n",
              "      <td>0.0</td>\n",
              "      <td>0.000100</td>\n",
              "      <td>0.000146</td>\n",
              "      <td>0.0</td>\n",
              "      <td>0.000664</td>\n",
              "      <td>0.000000</td>\n",
              "      <td>0.000266</td>\n",
              "      <td>0.646177</td>\n",
              "    </tr>\n",
              "    <tr>\n",
              "      <th>2</th>\n",
              "      <td>0.0</td>\n",
              "      <td>0.0</td>\n",
              "      <td>0.0</td>\n",
              "      <td>0.0</td>\n",
              "      <td>0.0</td>\n",
              "      <td>0.0</td>\n",
              "      <td>0.000000</td>\n",
              "      <td>0.000000</td>\n",
              "      <td>0.003977</td>\n",
              "      <td>0.256062</td>\n",
              "      <td>0.966652</td>\n",
              "      <td>0.0</td>\n",
              "      <td>0.000000</td>\n",
              "      <td>0.000032</td>\n",
              "      <td>0.0</td>\n",
              "      <td>0.000000</td>\n",
              "      <td>0.000006</td>\n",
              "      <td>0.0</td>\n",
              "      <td>0.000032</td>\n",
              "      <td>0.000000</td>\n",
              "      <td>0.000000</td>\n",
              "      <td>0.000000</td>\n",
              "    </tr>\n",
              "    <tr>\n",
              "      <th>3</th>\n",
              "      <td>0.0</td>\n",
              "      <td>0.0</td>\n",
              "      <td>0.0</td>\n",
              "      <td>0.0</td>\n",
              "      <td>0.0</td>\n",
              "      <td>0.0</td>\n",
              "      <td>0.000000</td>\n",
              "      <td>0.000000</td>\n",
              "      <td>0.000011</td>\n",
              "      <td>0.005735</td>\n",
              "      <td>0.999984</td>\n",
              "      <td>0.0</td>\n",
              "      <td>0.000000</td>\n",
              "      <td>0.000016</td>\n",
              "      <td>0.0</td>\n",
              "      <td>0.000000</td>\n",
              "      <td>0.000003</td>\n",
              "      <td>0.0</td>\n",
              "      <td>0.000000</td>\n",
              "      <td>0.000000</td>\n",
              "      <td>0.000016</td>\n",
              "      <td>0.000000</td>\n",
              "    </tr>\n",
              "    <tr>\n",
              "      <th>4</th>\n",
              "      <td>0.0</td>\n",
              "      <td>0.0</td>\n",
              "      <td>0.0</td>\n",
              "      <td>0.0</td>\n",
              "      <td>0.0</td>\n",
              "      <td>0.0</td>\n",
              "      <td>0.000000</td>\n",
              "      <td>0.000000</td>\n",
              "      <td>0.008276</td>\n",
              "      <td>0.223569</td>\n",
              "      <td>0.974639</td>\n",
              "      <td>0.0</td>\n",
              "      <td>0.000000</td>\n",
              "      <td>0.003715</td>\n",
              "      <td>0.0</td>\n",
              "      <td>0.000000</td>\n",
              "      <td>0.000892</td>\n",
              "      <td>0.0</td>\n",
              "      <td>0.000149</td>\n",
              "      <td>0.001040</td>\n",
              "      <td>0.003269</td>\n",
              "      <td>0.000000</td>\n",
              "    </tr>\n",
              "  </tbody>\n",
              "</table>\n",
              "</div>"
            ],
            "text/plain": [
              "    0    1    2    3    4   ...   17        18        19        20        21\n",
              "0  0.0  0.0  0.0  0.0  0.0  ...  0.0  0.000000  0.002739  0.000522  0.000000\n",
              "1  0.0  0.0  0.0  0.0  0.0  ...  0.0  0.000664  0.000000  0.000266  0.646177\n",
              "2  0.0  0.0  0.0  0.0  0.0  ...  0.0  0.000032  0.000000  0.000000  0.000000\n",
              "3  0.0  0.0  0.0  0.0  0.0  ...  0.0  0.000000  0.000000  0.000016  0.000000\n",
              "4  0.0  0.0  0.0  0.0  0.0  ...  0.0  0.000149  0.001040  0.003269  0.000000\n",
              "\n",
              "[5 rows x 22 columns]"
            ]
          },
          "metadata": {
            "tags": []
          },
          "execution_count": 22
        }
      ]
    },
    {
      "cell_type": "markdown",
      "metadata": {
        "id": "mfYGkQxvQfXD"
      },
      "source": [
        "## Feature Engineering"
      ]
    },
    {
      "cell_type": "code",
      "metadata": {
        "id": "uhyQI9-hWlHr"
      },
      "source": [
        "dataset = dataframe.values"
      ],
      "execution_count": 23,
      "outputs": []
    },
    {
      "cell_type": "code",
      "metadata": {
        "id": "xPeyqu_ZXTfq"
      },
      "source": [
        "norm_dataset = normalized_dataframe.values\n",
        "X = norm_dataset[:,0:-1].astype(float)"
      ],
      "execution_count": 24,
      "outputs": []
    },
    {
      "cell_type": "code",
      "metadata": {
        "id": "d2OAgWybWrDM"
      },
      "source": [
        "Y = dataset[:,-1]"
      ],
      "execution_count": 25,
      "outputs": []
    },
    {
      "cell_type": "markdown",
      "metadata": {
        "id": "JPnDNVFMZqQV"
      },
      "source": [
        "### Train-Validation-Test Split"
      ]
    },
    {
      "cell_type": "code",
      "metadata": {
        "colab": {
          "base_uri": "https://localhost:8080/",
          "height": 0
        },
        "id": "KVgHhYbgatKd",
        "outputId": "456c2ba5-112e-4e51-8aa6-4b2c113ba46b"
      },
      "source": [
        "from sklearn.model_selection import train_test_split\n",
        "\n",
        "#splitting data into train: test in 80:20 ratio\n",
        "X_train, X_test, Y_train, Y_test = train_test_split(X, Y, test_size = 0.2, random_state=1)\n",
        "print(X_train.shape)\n",
        "print(X_test.shape)\n",
        "print(Y_train.shape)\n",
        "print(Y_test.shape)"
      ],
      "execution_count": 26,
      "outputs": [
        {
          "output_type": "stream",
          "text": [
            "(387344, 21)\n",
            "(96836, 21)\n",
            "(387344,)\n",
            "(96836,)\n"
          ],
          "name": "stdout"
        }
      ]
    },
    {
      "cell_type": "markdown",
      "metadata": {
        "id": "EBg9STL6QiCE"
      },
      "source": [
        "### One Hot Encoding"
      ]
    },
    {
      "cell_type": "code",
      "metadata": {
        "id": "VLZApSDWiiZg"
      },
      "source": [
        "#one hot encoding the training labels\n",
        "encoder = LabelEncoder()\n",
        "encoder.fit(Y_train)\n",
        "encoded_Y = encoder.transform(Y_train)\n",
        "# convert integers to dummy variables (i.e. one hot encoded)\n",
        "Y_train = np_utils.to_categorical(encoded_Y)"
      ],
      "execution_count": 27,
      "outputs": []
    },
    {
      "cell_type": "markdown",
      "metadata": {
        "id": "3f5JIY1dQ7m1"
      },
      "source": [
        "## Building Model"
      ]
    },
    {
      "cell_type": "code",
      "metadata": {
        "colab": {
          "base_uri": "https://localhost:8080/",
          "height": 0
        },
        "id": "87a7vHcUa0Vq",
        "outputId": "e44a34d6-ac7f-46fd-99e8-467d8f8627a1"
      },
      "source": [
        "def get_model():\n",
        "  #define model\n",
        "  model = Sequential()\n",
        "  model.add(Dense(8, input_dim=21, activation='relu'))\n",
        "  model.add(Dense(32, activation='relu'))\n",
        "  model.add(Dense(4, activation='softmax'))\n",
        "\t# Compile model\n",
        "  model.compile(loss='categorical_crossentropy', optimizer='adam', metrics=['accuracy'])\n",
        "  return model\n",
        "\n",
        "model = get_model()\n",
        "model.summary()"
      ],
      "execution_count": 28,
      "outputs": [
        {
          "output_type": "stream",
          "text": [
            "Model: \"sequential\"\n",
            "_________________________________________________________________\n",
            "Layer (type)                 Output Shape              Param #   \n",
            "=================================================================\n",
            "dense (Dense)                (None, 8)                 176       \n",
            "_________________________________________________________________\n",
            "dense_1 (Dense)              (None, 32)                288       \n",
            "_________________________________________________________________\n",
            "dense_2 (Dense)              (None, 4)                 132       \n",
            "=================================================================\n",
            "Total params: 596\n",
            "Trainable params: 596\n",
            "Non-trainable params: 0\n",
            "_________________________________________________________________\n"
          ],
          "name": "stdout"
        }
      ]
    },
    {
      "cell_type": "markdown",
      "metadata": {
        "id": "9OdLudENc1uk"
      },
      "source": [
        "### /"
      ]
    },
    {
      "cell_type": "code",
      "metadata": {
        "id": "sD1dyXjyaynG"
      },
      "source": [
        "#estimator = KerasClassifier(build_fn=get_model, epochs=200, batch_size=5, verbose=0)"
      ],
      "execution_count": null,
      "outputs": []
    },
    {
      "cell_type": "code",
      "metadata": {
        "id": "ZC2AinLIaykF"
      },
      "source": [
        "#kfold = KFold(n_splits=10, shuffle=True)"
      ],
      "execution_count": null,
      "outputs": []
    },
    {
      "cell_type": "code",
      "metadata": {
        "id": "Y6ORbBC8ayhR"
      },
      "source": [
        "#results = cross_val_score(estimator, X, dummy_y, cv=kfold)\n",
        "#print(\"Baseline: %.2f%% (%.2f%%)\" % (results.mean()*100, results.std()*100))\n"
      ],
      "execution_count": 22,
      "outputs": []
    },
    {
      "cell_type": "markdown",
      "metadata": {
        "id": "4yWl_HanQ_kn"
      },
      "source": [
        "## Training Model"
      ]
    },
    {
      "cell_type": "code",
      "metadata": {
        "colab": {
          "base_uri": "https://localhost:8080/",
          "height": 0
        },
        "id": "dfG1nWXAbBJ_",
        "outputId": "f4c8b235-e2fe-47b0-e348-0868ed14fac4"
      },
      "source": [
        "early_stopping = EarlyStopping(monitor='val_loss', patience = 5)\n",
        "\n",
        "model = get_model()\n",
        "\n",
        "#Prediction on untrained model for comparision.\n",
        "preds_on_untrained = model.predict(X_test, verbose=0)\n",
        "\n",
        "#Fitting the model for given data\n",
        "history = model.fit(\n",
        "    X_train, Y_train,\n",
        "    validation_split = 0.125, #7:1 ratio for train-val split\n",
        "    epochs = 100,  \n",
        "    callbacks = [early_stopping]\n",
        ")\n"
      ],
      "execution_count": 29,
      "outputs": [
        {
          "output_type": "stream",
          "text": [
            "Epoch 1/100\n",
            "10592/10592 [==============================] - 12s 1ms/step - loss: 0.8216 - accuracy: 0.6296 - val_loss: 0.7498 - val_accuracy: 0.6349\n",
            "Epoch 2/100\n",
            "10592/10592 [==============================] - 11s 1ms/step - loss: 0.7430 - accuracy: 0.6375 - val_loss: 0.7293 - val_accuracy: 0.6474\n",
            "Epoch 3/100\n",
            "10592/10592 [==============================] - 11s 1ms/step - loss: 0.7264 - accuracy: 0.6504 - val_loss: 0.7195 - val_accuracy: 0.6523\n",
            "Epoch 4/100\n",
            "10592/10592 [==============================] - 11s 1ms/step - loss: 0.7145 - accuracy: 0.6582 - val_loss: 0.7123 - val_accuracy: 0.6541\n",
            "Epoch 5/100\n",
            "10592/10592 [==============================] - 11s 1ms/step - loss: 0.7094 - accuracy: 0.6593 - val_loss: 0.7121 - val_accuracy: 0.6607\n",
            "Epoch 6/100\n",
            "10592/10592 [==============================] - 11s 1ms/step - loss: 0.7067 - accuracy: 0.6616 - val_loss: 0.7115 - val_accuracy: 0.6587\n",
            "Epoch 7/100\n",
            "10592/10592 [==============================] - 11s 1ms/step - loss: 0.7049 - accuracy: 0.6615 - val_loss: 0.7110 - val_accuracy: 0.6617\n",
            "Epoch 8/100\n",
            "10592/10592 [==============================] - 11s 1ms/step - loss: 0.7038 - accuracy: 0.6628 - val_loss: 0.7056 - val_accuracy: 0.6636\n",
            "Epoch 9/100\n",
            "10592/10592 [==============================] - 11s 1ms/step - loss: 0.7033 - accuracy: 0.6620 - val_loss: 0.7067 - val_accuracy: 0.6661\n",
            "Epoch 10/100\n",
            "10592/10592 [==============================] - 11s 1ms/step - loss: 0.7024 - accuracy: 0.6637 - val_loss: 0.7112 - val_accuracy: 0.6632\n",
            "Epoch 11/100\n",
            "10592/10592 [==============================] - 12s 1ms/step - loss: 0.7004 - accuracy: 0.6638 - val_loss: 0.7066 - val_accuracy: 0.6619\n",
            "Epoch 12/100\n",
            "10592/10592 [==============================] - 12s 1ms/step - loss: 0.7010 - accuracy: 0.6644 - val_loss: 0.7050 - val_accuracy: 0.6666\n",
            "Epoch 13/100\n",
            "10592/10592 [==============================] - 11s 1ms/step - loss: 0.6974 - accuracy: 0.6650 - val_loss: 0.7059 - val_accuracy: 0.6695\n",
            "Epoch 14/100\n",
            "10592/10592 [==============================] - 11s 1ms/step - loss: 0.6967 - accuracy: 0.6660 - val_loss: 0.7075 - val_accuracy: 0.6667\n",
            "Epoch 15/100\n",
            "10592/10592 [==============================] - 11s 1ms/step - loss: 0.6945 - accuracy: 0.6662 - val_loss: 0.7074 - val_accuracy: 0.6667\n",
            "Epoch 16/100\n",
            "10592/10592 [==============================] - 11s 1ms/step - loss: 0.6976 - accuracy: 0.6661 - val_loss: 0.7074 - val_accuracy: 0.6689\n",
            "Epoch 17/100\n",
            "10592/10592 [==============================] - 11s 1ms/step - loss: 0.6938 - accuracy: 0.6676 - val_loss: 0.7064 - val_accuracy: 0.6685\n"
          ],
          "name": "stdout"
        }
      ]
    },
    {
      "cell_type": "markdown",
      "metadata": {
        "id": "_kkTq8c2RHl4"
      },
      "source": [
        "## Model Evaluation"
      ]
    },
    {
      "cell_type": "code",
      "metadata": {
        "id": "sU3EoNgMgC7S"
      },
      "source": [
        "#predicted probabilites\n",
        "yhat_probs = model.predict(X_test, verbose=0)"
      ],
      "execution_count": 30,
      "outputs": []
    },
    {
      "cell_type": "code",
      "metadata": {
        "id": "VPBMYEq-gN4a"
      },
      "source": [
        "#yhat_classes = model.predict_classes(X_test, verbose=0)"
      ],
      "execution_count": 31,
      "outputs": []
    },
    {
      "cell_type": "code",
      "metadata": {
        "id": "n0wmI5Tkgeqa"
      },
      "source": [
        "#predicted classes\n",
        "yhat = np.argmax(model.predict(X_test), axis=-1)"
      ],
      "execution_count": 32,
      "outputs": []
    },
    {
      "cell_type": "code",
      "metadata": {
        "colab": {
          "base_uri": "https://localhost:8080/",
          "height": 0
        },
        "id": "hgDWGfmUhixr",
        "outputId": "880d8f57-efc8-4eca-87a1-1148c32a3a8e"
      },
      "source": [
        "Y_test"
      ],
      "execution_count": 33,
      "outputs": [
        {
          "output_type": "execute_result",
          "data": {
            "text/plain": [
              "array([1., 4., 1., ..., 1., 2., 1.])"
            ]
          },
          "metadata": {
            "tags": []
          },
          "execution_count": 33
        }
      ]
    },
    {
      "cell_type": "code",
      "metadata": {
        "id": "Oskv0WETkt8z"
      },
      "source": [
        "for i in range(len(yhat)):\n",
        "  yhat[i] += 1 #since yhat is in range 0-3"
      ],
      "execution_count": 34,
      "outputs": []
    },
    {
      "cell_type": "code",
      "metadata": {
        "colab": {
          "base_uri": "https://localhost:8080/",
          "height": 0
        },
        "id": "yJSfZy7ViALo",
        "outputId": "8ea00646-0df2-486a-dfe3-1d98c79b3c8e"
      },
      "source": [
        "np.unique(yhat)"
      ],
      "execution_count": 35,
      "outputs": [
        {
          "output_type": "execute_result",
          "data": {
            "text/plain": [
              "array([1, 2, 3, 4])"
            ]
          },
          "metadata": {
            "tags": []
          },
          "execution_count": 35
        }
      ]
    },
    {
      "cell_type": "markdown",
      "metadata": {
        "id": "8Ys2iZ_Uifb8"
      },
      "source": [
        "### Training and Val loss - Graph"
      ]
    },
    {
      "cell_type": "code",
      "metadata": {
        "colab": {
          "base_uri": "https://localhost:8080/",
          "height": 497
        },
        "id": "148RACjblaZ6",
        "outputId": "94cb5ca4-462f-4e12-eb54-be3a669ebe72"
      },
      "source": [
        "def plot_loss(history):\n",
        "    h = history.history\n",
        "    x_lim = len(h['loss'])\n",
        "    plt.figure(figsize=(8, 8))\n",
        "    plt.plot(range(x_lim), h['val_loss'], label = 'Validation Loss')\n",
        "    plt.plot(range(x_lim), h['loss'], label = 'Training Loss')\n",
        "    plt.xlabel('Epochs')\n",
        "    plt.ylabel('Loss')\n",
        "    plt.legend()\n",
        "    plt.show()\n",
        "    return\n",
        "plot_loss(history)"
      ],
      "execution_count": 36,
      "outputs": [
        {
          "output_type": "display_data",
          "data": {
            "image/png": "[encoded data removed]",
            "text/plain": [
              "<Figure size 576x576 with 1 Axes>"
            ]
          },
          "metadata": {
            "tags": [],
            "needs_background": "light"
          }
        }
      ]
    },
    {
      "cell_type": "markdown",
      "metadata": {
        "id": "oTmFYG1wRX-5"
      },
      "source": [
        "## Metrics"
      ]
    },
    {
      "cell_type": "code",
      "metadata": {
        "colab": {
          "base_uri": "https://localhost:8080/",
          "height": 0
        },
        "id": "9sekaF2Hg56C",
        "outputId": "967c338a-cdda-4aed-d06f-c35d2af2336c"
      },
      "source": [
        "# accuracy: (tp + tn) / (p + n)\n",
        "accuracy = accuracy_score(Y_test, yhat)\n",
        "print('Accuracy: %f' % accuracy)"
      ],
      "execution_count": 37,
      "outputs": [
        {
          "output_type": "stream",
          "text": [
            "Accuracy: 0.668481\n"
          ],
          "name": "stdout"
        }
      ]
    },
    {
      "cell_type": "code",
      "metadata": {
        "colab": {
          "base_uri": "https://localhost:8080/",
          "height": 0
        },
        "id": "fruJnfxFg50x",
        "outputId": "bbba4f84-5890-41f1-dbf0-0256cd389eef"
      },
      "source": [
        "# precision tp / (tp + fp)\n",
        "precision = precision_score(Y_test, yhat,average='micro')\n",
        "print('Precision: %f' % precision)"
      ],
      "execution_count": 38,
      "outputs": [
        {
          "output_type": "stream",
          "text": [
            "Precision: 0.668481\n"
          ],
          "name": "stdout"
        }
      ]
    },
    {
      "cell_type": "code",
      "metadata": {
        "colab": {
          "base_uri": "https://localhost:8080/",
          "height": 0
        },
        "id": "6vUtjTE3g_xz",
        "outputId": "76395288-6e96-45cd-c47f-1360cf6841db"
      },
      "source": [
        "# recall: tp / (tp + fn)\n",
        "recall = recall_score(Y_test, yhat,average='micro')\n",
        "print('Recall: %f' % recall)"
      ],
      "execution_count": 39,
      "outputs": [
        {
          "output_type": "stream",
          "text": [
            "Recall: 0.668481\n"
          ],
          "name": "stdout"
        }
      ]
    },
    {
      "cell_type": "code",
      "metadata": {
        "colab": {
          "base_uri": "https://localhost:8080/",
          "height": 0
        },
        "id": "6p690oZeg_vW",
        "outputId": "993463c0-6d9b-4055-b8e5-f410ef6d779f"
      },
      "source": [
        "# f1: 2 tp / (2 tp + fp + fn)\n",
        "f1 = f1_score(Y_test, yhat,average='micro')\n",
        "print('F1 score: %f' % f1)"
      ],
      "execution_count": 40,
      "outputs": [
        {
          "output_type": "stream",
          "text": [
            "F1 score: 0.668481\n"
          ],
          "name": "stdout"
        }
      ]
    },
    {
      "cell_type": "code",
      "metadata": {
        "colab": {
          "base_uri": "https://localhost:8080/",
          "height": 0
        },
        "id": "QJp2qRl1g_sR",
        "outputId": "9b69a6b1-6a93-4eff-fc3a-7cb371290b85"
      },
      "source": [
        "auc = roc_auc_score(Y_test, yhat_probs,average='macro',multi_class='ovr')\n",
        "print('ROC AUC: %f' % auc)\n"
      ],
      "execution_count": 41,
      "outputs": [
        {
          "output_type": "stream",
          "text": [
            "ROC AUC: 0.851364\n"
          ],
          "name": "stdout"
        }
      ]
    },
    {
      "cell_type": "code",
      "metadata": {
        "colab": {
          "base_uri": "https://localhost:8080/",
          "height": 0
        },
        "id": "xk3HdgRyg_pt",
        "outputId": "f06668ea-121c-4f7f-a067-e3da7c9a0262"
      },
      "source": [
        "# confusion matrix\n",
        "matrix = confusion_matrix(Y_test, yhat)\n",
        "print(matrix)"
      ],
      "execution_count": 42,
      "outputs": [
        {
          "output_type": "stream",
          "text": [
            "[[53851  3181   110  3803]\n",
            " [ 4541  3997   231  3057]\n",
            " [ 4225  2511   296  5102]\n",
            " [ 3345  1775   222  6589]]\n"
          ],
          "name": "stdout"
        }
      ]
    },
    {
      "cell_type": "code",
      "metadata": {
        "colab": {
          "base_uri": "https://localhost:8080/",
          "height": 282
        },
        "id": "-5S6VDR8g5jF",
        "outputId": "e3fc76bd-f690-4754-b711-a6e757ffbf70"
      },
      "source": [
        "#Confusion matrix visualization\n",
        "import seaborn as sns\n",
        "sns.heatmap(matrix, annot=True)"
      ],
      "execution_count": 43,
      "outputs": [
        {
          "output_type": "execute_result",
          "data": {
            "text/plain": [
              "<matplotlib.axes._subplots.AxesSubplot at 0x7efc23476b38>"
            ]
          },
          "metadata": {
            "tags": []
          },
          "execution_count": 43
        },
        {
          "output_type": "display_data",
          "data": {
            "image/png": "[encoded data removed]",
            "text/plain": [
              "<Figure size 432x288 with 2 Axes>"
            ]
          },
          "metadata": {
            "tags": [],
            "needs_background": "light"
          }
        }
      ]
    },
    {
      "cell_type": "markdown",
      "metadata": {
        "id": "Fpr0FWnyRZ3Q"
      },
      "source": [
        "### ROC Curve"
      ]
    },
    {
      "cell_type": "code",
      "metadata": {
        "id": "PZBvJcvYoecO"
      },
      "source": [
        ""
      ],
      "execution_count": 49,
      "outputs": []
    },
    {
      "cell_type": "markdown",
      "metadata": {
        "id": "HSbur7yGPFoI"
      },
      "source": [
        ""
      ]
    }
  ]
}